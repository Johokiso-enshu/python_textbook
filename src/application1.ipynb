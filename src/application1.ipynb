{
 "cells": [
  {
   "cell_type": "markdown",
   "metadata": {},
   "source": [
    "# Python の応用1 〜数値シミュレーション〜\n",
    "\n",
    "この章では, これまで学習した知識を用いて初歩的な数値シミュレーションを行う. \n",
    "本章と次章を学習することによって, 最終的には, 野球ボールの軌道を計算できるようになることを目標とする. \n",
    "\n",
    "多くの数値シミュレーションは, \n",
    "解析的に解くことのできない微分方程式を数値的に解く問題に帰着する. \n",
    "まずは微分方程式を数値的に解く最も簡単なオイラー法について少し学習し, \n",
    "その後, 実際の問題に適用する. "
   ]
  },
  {
   "cell_type": "markdown",
   "metadata": {},
   "source": [
    "## 常微分方程式とオイラー近似\n",
    "\n",
    "一階の微分方程式\n",
    "\n",
    "$$\n",
    "\\frac{dx}{dt}=f(x,t)\n",
    "$$\n",
    "\n",
    "を数値的に解くことを考える。\n",
    "計算機は離散的な値しか扱うことができないので、微分方程式を差分方程式に近似する。\n",
    "その最も単純な近似が次のオイラー法である。\n",
    "\n",
    "$$\n",
    "\\frac{x_{n+1}-x_{n}}{\\Delta t}=f(x_n,t_n).\n",
    "$$\n",
    "\n",
    "ここで、$\\Delta t$を十分に小さい時間刻み幅として、\n",
    "第 $n$ ステップにおける$t, x$をそれぞれ $t_n(=n \\Delta t), x_n$ としている。\n",
    "初期条件 $x(0)=x_0$ を与えた上で、 $n=0, 1, 2, \\cdots$に対して\n",
    "\n",
    "$$\n",
    "x_{n+1}=x_{n}+f(x_n,t_n)\\Delta t\n",
    "$$  \n",
    "\n",
    "として逐次 $x_n$ を求めていく。\n",
    "\n",
    "以下の例では, 常微分方程式\n",
    "$$\n",
    "\\frac{dx}{dt}=ax, \\ \\ \\ x(0)=1\n",
    "$$\n",
    "\n",
    "を数値的に解いている.  \n",
    "なお, この方程式の解析解は\n",
    "$$\n",
    "x(t)=\\exp(at)\n",
    "$$\n",
    "\n",
    "で与えられる."
   ]
  },
  {
   "cell_type": "markdown",
   "metadata": {},
   "source": [
    "### $\\frac{dx}{dt} = ax$ のシミュレーション"
   ]
  },
  {
   "cell_type": "code",
   "execution_count": 1,
   "metadata": {
    "collapsed": true
   },
   "outputs": [],
   "source": [
    "import numpy as np\n",
    "%matplotlib inline\n",
    "import matplotlib.pyplot as plt"
   ]
  },
  {
   "cell_type": "code",
   "execution_count": 2,
   "metadata": {
    "collapsed": true
   },
   "outputs": [],
   "source": [
    "n = 1000 # ステップ数\n",
    "dt = 0.01 # tの刻み幅\n",
    "a = 1.0 # a の値\n",
    "\n",
    "# 初期条件\n",
    "x0 = 1.0\n",
    "# t, x の値を格納するリスト\n",
    "t_list = []\n",
    "x_list = []\n",
    "x_exact = [] # 解析解を格納するリスト\n",
    "\n",
    "# t=0 では x=x0\n",
    "t = 0.0\n",
    "x = x0\n",
    "\n",
    "# 値を格納する。\n",
    "t_list.append(t)\n",
    "x_list.append(x)\n",
    "x_exact.append(x)\n",
    "\n",
    "for i in range(n):\n",
    "    f = a * x # 右辺を予め計算する。\n",
    "    x = x + f * dt # Euler 法による時間発展\n",
    "    t = t + dt # 時刻をdtだけ進める。\n",
    "    \n",
    "    # 計算した x, t の格納\n",
    "    t_list.append(t)\n",
    "    x_list.append(x)\n",
    "    x_exact.append(np.exp(a*t))"
   ]
  },
  {
   "cell_type": "code",
   "execution_count": 3,
   "metadata": {
    "collapsed": false,
    "scrolled": true
   },
   "outputs": [
    {
     "data": {
      "text/plain": [
       "<matplotlib.legend.Legend at 0x7f844233de50>"
      ]
     },
     "execution_count": 3,
     "metadata": {},
     "output_type": "execute_result"
    },
    {
     "data": {
      "image/png": "[encoded data removed]",
      "text/plain": [
       "<matplotlib.figure.Figure at 0x7f846cee2e90>"
      ]
     },
     "metadata": {},
     "output_type": "display_data"
    }
   ],
   "source": [
    "# グラフに結果を描画する。\n",
    "plt.plot(t_list, x_list, label='simulation')\n",
    "plt.plot(t_list, x_exact, label='analytical')\n",
    "plt.xlabel('t')\n",
    "plt.ylabel('x')\n",
    "plt.yscale('log')\n",
    "# 凡例を表示する。\n",
    "plt.legend(loc='best')"
   ]
  },
  {
   "cell_type": "markdown",
   "metadata": {},
   "source": [
    "### 課題 1\n",
    "\n",
    "上記の例について, $\\Delta t$ = 0.01, 0.1 および $\\Delta t$ = 1.0 についてそれぞれ計算し, その結果を描画することで\n",
    "$\\Delta t$ の大きさが微分方程式の数値解にどのような影響を及ぼすか考察せよ."
   ]
  },
  {
   "cell_type": "markdown",
   "metadata": {},
   "source": [
    "### 課題 2\n",
    "\n",
    "あらかじめ解析解の分かっている常微分方程式を何でもよいので一つ取り上げ, これを数値的に解いた場合の誤差を評価せよ.\n",
    "\n",
    "例えば、減衰振動の微分方程式は以下のように表される。 \n",
    "$$\n",
    "\\frac{d^2x}{dt^2} + 2\\xi\\omega_0\\frac{dx}{dt} + \\omega_0^2 x = 0\n",
    "$$\n",
    "\n",
    "この常微分方程式の解析解は\n",
    "0 < ζ < 1のとき以下のように表される.\n",
    "$$\n",
    "x(t)=Ce^{{-\\zeta \\omega _{0}t}}\\cos \\left(\\omega _{0}{\\sqrt  {1-\\zeta ^{2}}}t-\\alpha \\right)\n",
    "$$\n",
    "\n",
    "ただし、\n",
    "$$\n",
    "C=x_{0}{\\sqrt  {1+\\left({\\frac  {\\sigma +\\zeta }{{\\sqrt  {1-\\zeta ^{2}}}}}\\right)^{2}}}\n",
    "$$\n",
    "および\n",
    "$$\n",
    "\\alpha =\\tan ^{{-1}}\\left(-{\\frac  {\\sigma +\\zeta }{{\\sqrt  {1-\\zeta ^{2}}}}}\\right)\n",
    "$$\n",
    "である。\n",
    "\n",
    "[https://ja.wikipedia.org/wiki/%E6%B8%9B%E8%A1%B0%E6%8C%AF%E5%8B%95]"
   ]
  },
  {
   "attachments": {},
   "cell_type": "markdown",
   "metadata": {},
   "source": [
    "## Lorenz 方程式\n",
    "\n",
    "気象学者のLorenzは1963年に熱対流の近似モデルとして\n",
    "以下の方程式を提案した(Lorenz方程式)\n",
    "> Lorenz, E. N., 'Deterministic nonperiodic flow', *J. Atms. Sci.* **20**, pp.130-141, (1963).\n",
    "\n",
    "$$\n",
    "\\begin{array}{ccc}\n",
    "\\dfrac{dx}{dt}&=&-ax+ay \\\\[3pt]\n",
    "\\dfrac{dy}{dt}&=&\\mu x-y-xz \\\\[3pt]\n",
    "\\dfrac{dz}{dt}&=&-bz+xy \\\\[3pt]\n",
    "\\end{array}\n",
    "$$\n",
    "\n",
    "Lorenzは数値計算により, この方程式の解が\n",
    "不規則で周期性をもたない振動をすることを発見した.\n",
    "決定論的な微分方程式の解がこのような予測不可能は振舞いを示すことは驚きをもって受け止められ,\n",
    "現在ではこのような非周期運動はカオスと呼ばれている.\n",
    "\n",
    "なお, Lorenz方程式は自明解 $x=y=z=0$ の他に,\n",
    "$\\mu >1$ のとき, 定常解 $x=y=\\pm \\sqrt{b(\\mu-1)}, z=\\mu-1$ をもつ.\n",
    "\n",
    "<img src=\"figs/lorenz.jpg\" width=\"80%\">\n",
    "\n",
    "### 課題 3\n",
    "+ $a=10, b=8/3$ と固定した上で, Lorenz方程式のシミュレーションを実施せよ.  \n",
    "$\\mu$ を $0, 1, 3, 10, 30,...$ の条件でシミュレーションを行い, どのような解が現れるか調べよ.  \n",
    "$x, y, z$ の時間変化を示すグラフや上のような $xyz$ 空間における軌跡などをプロットしてみるとよい.\n",
    "+ 初期値がわずかに(例えば1％程度)異なる2ケースのシミュレーション結果を比較せよ. \n",
    "\n",
    "なお、3次元グラフは\n",
    "```python\n",
    "from mpl_toolkits.mplot3d import Axes3D\n",
    "\n",
    "ax = plt.subplot(111, projection='3d')\n",
    "ax.plot(x, y, z)\n",
    "```\n",
    "のようにして表示することができる。\n",
    "\n",
    "より大きく描画するためには\n",
    "\n",
    "```python\n",
    "from mpl_toolkits.mplot3d import Axes3D\n",
    "\n",
    "plt.figure(figsize=(10, 10))\n",
    "ax = plt.subplot(111, projection='3d')\n",
    "ax.plot(x, y, z)\n",
    "```\n"
   ]
  },
  {
   "cell_type": "markdown",
   "metadata": {},
   "source": []
  }
 ],
 "metadata": {
  "anaconda-cloud": {},
  "kernelspec": {
   "display_name": "Python 3",
   "language": "python",
   "name": "python3"
  },
  "language_info": {
   "codemirror_mode": {
    "name": "ipython",
    "version": 3
   },
   "file_extension": ".py",
   "mimetype": "text/x-python",
   "name": "python",
   "nbconvert_exporter": "python",
   "pygments_lexer": "ipython3",
   "version": "3.6.3"
  }
 },
 "nbformat": 4,
 "nbformat_minor": 0
}
