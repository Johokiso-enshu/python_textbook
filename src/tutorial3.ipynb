{
 "cells": [
  {
   "cell_type": "markdown",
   "metadata": {},
   "source": [
    "# Python 入門３\n",
    "\n",
    "この回では、ファイル関連の操作を学習する。\n",
    "\n",
    "まず、計算結果のファイル保存、ファイルからの読み込みの方法を学ぶ。\n",
    "\n",
    "さらに、関数などよく用いる操作をスクリプトファイルとして保存し、それをJupyter-notebook などから呼び出す方法について学ぶ。"
   ]
  },
  {
   "cell_type": "markdown",
   "metadata": {},
   "source": [
    "## ファイルの保存\n",
    "\n",
    "以前作成したフィボナッチ数列をファイルに保存する方法を学ぶ。\n",
    "\n",
    "Python の変数の内容は、Python を停止したり(Jupyter-notebook を用いる場合はそれを停止したり)、PCの電源を切ると、その内容は破棄される。\n",
    "しかし、結果をテキストファイルなどで保存しておくと、その結果はPCの電源が切れても残される。\n",
    "\n",
    "またテキストファイルにしておくことで、Pythonの環境がないPCやスマートフォンでも内容を確認することができ、\n",
    "エクセルなど別のソフトウェアで読み込むことも可能となる。"
   ]
  },
  {
   "cell_type": "markdown",
   "metadata": {},
   "source": [
    "### np.savetxt を用いたファイルの保存\n",
    "\n",
    "今回は一例として、フィボナッチ数列の計算結果をリストに保存することにする。"
   ]
  },
  {
   "cell_type": "code",
   "execution_count": 1,
   "metadata": {
    "collapsed": false
   },
   "outputs": [
    {
     "name": "stdout",
     "output_type": "stream",
     "text": [
      "[0, 1, 1, 2, 3, 5, 8, 13, 21, 34, 55, 89, 144, 233, 377, 610, 987]\n"
     ]
    }
   ],
   "source": [
    "a, b = 0, 1\n",
    "fibonacci = [a] # 最初の要素のみが入ったリストを用意する。\n",
    "while b < 1000:\n",
    "    fibonacci.append(b) # リストにbの値を追加する。\n",
    "    a, b = b, a+b # 現在のbの値と、現在のaとbの値から計算したa+bの値をそれぞれ aとbに代入する。\n",
    "print(fibonacci)"
   ]
  },
  {
   "cell_type": "markdown",
   "metadata": {},
   "source": [
    "計算結果をファイルに保存する方法は、 `numpy` の `savetxt` 関数を用いることである。\n",
    "\n",
    "`savetxt` 関数の基本的な使い方は、 `savetxt([ファイル名], [保存する変数])` である。"
   ]
  },
  {
   "cell_type": "code",
   "execution_count": 2,
   "metadata": {
    "collapsed": false
   },
   "outputs": [],
   "source": [
    "import numpy as np\n",
    "\n",
    "np.savetxt('fibonacci.txt', fibonacci)"
   ]
  },
  {
   "cell_type": "markdown",
   "metadata": {},
   "source": [
    "上記を実行した後、fibonacci.txt ファイルが作成されていることを確認せよ。  "
   ]
  },
  {
   "cell_type": "markdown",
   "metadata": {},
   "source": [
    "### 課題\n",
    "\n",
    "$$\n",
    "f(n)=\\log(n!)\n",
    "$$\n",
    "\n",
    "となる $f(n)$ の値を、 $n∈1,...,30$ に対し計算し、`factorial.txt` という名前のファイルに保存せよ。\n",
    "計算結果をメール添付し提出せよ。"
   ]
  },
  {
   "cell_type": "markdown",
   "metadata": {},
   "source": [
    "## ファイルの読み込み\n",
    "\n",
    "同様に、実験で得られた結果や、エクセルなど外部プログラムをPyhonで解析したいこともよくある。\n",
    "その場合、テキストファイルに一度結果を保存しそれをPythonで読み込む方法が簡単である。"
   ]
  },
  {
   "cell_type": "markdown",
   "metadata": {},
   "source": [
    "### np.loadtxt を用いた実験データの読み込み\n",
    "\n",
    "あるバネに重りをかけた時のバネの全長を計測した仮想的な実験結果を想定する。\n",
    "以下のURLから`young.txt`ファイルをダウンロードし、ノートブックと同じフォルダに保存する。\n",
    "\n",
    "URL:\n",
    "[https://panda.ecs.kyoto-u.ac.jp/portal/directtool/ecede08a-1993-47c3-9ad6-1d644639b32e/](https://panda.ecs.kyoto-u.ac.jp/access/content/group/6cee543e-8b1a-40ef-b451-6fd8cf1ea870/pdf-2017/young.txt)\n",
    "\n",
    "\n",
    "テキストファイルの内容を確認すると、二列のデータがあることがわかる。\n",
    "このようなファイルを読み込むのに最も簡単な方法は、`numpy` の `loadtxt` 関数を用いることである。\n",
    "\n",
    "`loadtxt` 関数の基本的な使い方は、`loadtxt([ファイル名], unpack=True)` である。"
   ]
  },
  {
   "cell_type": "code",
   "execution_count": 3,
   "metadata": {
    "collapsed": false
   },
   "outputs": [],
   "source": [
    "weight, length = np.loadtxt('young.txt', unpack=True)"
   ]
  },
  {
   "cell_type": "code",
   "execution_count": 4,
   "metadata": {
    "collapsed": false
   },
   "outputs": [
    {
     "data": {
      "text/plain": [
       "array([   0.,   10.,   20.,   50.,  100.,  150.,  200.,  300.])"
      ]
     },
     "execution_count": 4,
     "metadata": {},
     "output_type": "execute_result"
    }
   ],
   "source": [
    "weight"
   ]
  },
  {
   "cell_type": "code",
   "execution_count": 5,
   "metadata": {
    "collapsed": false
   },
   "outputs": [
    {
     "data": {
      "text/plain": [
       "array([  91.3,   95.4,   96.7,  105. ,  115.9,  127.2,  139.6,  162.4])"
      ]
     },
     "execution_count": 5,
     "metadata": {},
     "output_type": "execute_result"
    }
   ],
   "source": [
    "length"
   ]
  },
  {
   "cell_type": "markdown",
   "metadata": {},
   "source": [
    "結果をグラフに表示せよ。"
   ]
  },
  {
   "cell_type": "code",
   "execution_count": 6,
   "metadata": {
    "collapsed": true
   },
   "outputs": [],
   "source": [
    "%matplotlib inline\n",
    "import matplotlib.pyplot as plt"
   ]
  },
  {
   "cell_type": "code",
   "execution_count": 7,
   "metadata": {
    "collapsed": false,
    "scrolled": true
   },
   "outputs": [
    {
     "data": {
      "text/plain": [
       "[<matplotlib.lines.Line2D at 0x7f224ef5e358>]"
      ]
     },
     "execution_count": 7,
     "metadata": {},
     "output_type": "execute_result"
    },
    {
     "data": {
      "image/png": "[encoded data removed]",
      "text/plain": [
       "<matplotlib.figure.Figure at 0x7f2251ab14e0>"
      ]
     },
     "metadata": {},
     "output_type": "display_data"
    }
   ],
   "source": [
    "plt.plot(weight, length, 'o')"
   ]
  },
  {
   "cell_type": "markdown",
   "metadata": {},
   "source": [
    "## コマンドラインからの実行\n",
    "\n",
    "### Python スクリプトファイル\n",
    "\n",
    "これまでは、Jupyter-notebook を用いてプログラム開発を行ってきた。\n",
    "Jupyter-notebook は試行錯誤しながらプログラムの開発する時には便利であるが :\n",
    "\n",
    "- 繰り返し用いるプログラム\n",
    "- 常時運転させるソフトウェア\n",
    "- GUI 環境のないワークステーション内での計算\n",
    "\n",
    "などでは、Jupyter-notebook を用いた対話的な操作よりも、スクリプトファイルとして開発する方が望ましい。\n",
    "\n",
    "本節では、繰り返し用いる関数をスクリプトファイル化し、\n",
    "Jupyter-notebook から呼び出す方法について学ぶ。\n",
    "例として、以前開発した２つのベクトルの内積を計算する `list_dot` 関数を\n",
    "スクリプトファイルとして保存しよう。\n",
    "注意点は:\n",
    "\n",
    "- スクリプトファイル名は、`.py` で終わる必要がある\n",
    "- スクリプトファイル内で用いるパッケージは全てスクリプトファイル内でimport する必要がある\n",
    "  例えば、numpy の関数を用いるスクリプトファイルでは、ファイルの冒頭に `import numpy as np`\n",
    "  を記述する必要がある。\n",
    "- スクリプトファイル内からは、スクリプトファイル外の変数にはアクセスできない\n",
    "\n",
    "ことなどである。\n",
    "\n",
    "\n",
    "\n",
    "### スクリプトファイル内の関数を呼び出す\n",
    "\n",
    "\n",
    "\n",
    "まず Jupyter-notebook の作業フォルダ内に、\n",
    "`list_functions.py` というファイル名の空のファイルを作成する。\n",
    "作業フォルダ内で右クリックし、新しいファイルを作成し、\n",
    "作成したファイルを notebook++ などのテキストエディタで編集する。\n",
    "\n",
    "上で挙げた注意点に気をつけながら以下をファイル中に記述し、保存する。\n",
    "\n",
    "----------------------------------\n",
    "\n",
    "```Python\n",
    "def list_dot(x1, x2):\n",
    "  \"\"\"\n",
    "  2つのリストを受け取り、その内積を計算する関数。\n",
    "  \"\"\"\n",
    "  dot = 0.0\n",
    "  for i in range(len(x1)):\n",
    "      dot += x1[i]*x2[i] # x += y は、x に x+y を代入することを表す。\n",
    "  return dot # return 文で計算した値を返す。\n",
    "```\n",
    "\n",
    "----------------------------------"
   ]
  },
  {
   "cell_type": "markdown",
   "metadata": {},
   "source": [
    "ここで作成したスクリプトファイルは、別のスクリプトファイルやJupyter-notebookなどから呼び出すことができる。\n",
    "\n",
    "呼び出すためには、 `numpy` の関数を呼び出す時のように、`import`文を用いて呼び出しを宣言する。\n",
    "（なお、ファイル拡張子 `.py` の部分は省略する必要がある）"
   ]
  },
  {
   "cell_type": "code",
   "execution_count": 8,
   "metadata": {
    "collapsed": true
   },
   "outputs": [],
   "source": [
    "import list_functions"
   ]
  },
  {
   "cell_type": "markdown",
   "metadata": {},
   "source": [
    "`list_functions` の中に作成した `list_dot` 関数を呼び出すためには、  \n",
    "`list_functions.list_dot`  \n",
    "というように、`.`に続けて関数名を指定する。"
   ]
  },
  {
   "cell_type": "code",
   "execution_count": 10,
   "metadata": {
    "collapsed": false
   },
   "outputs": [
    {
     "data": {
      "text/plain": [
       "2.0"
      ]
     },
     "execution_count": 10,
     "metadata": {},
     "output_type": "execute_result"
    }
   ],
   "source": [
    "# [1,1,1] と [0,1,1] の内積を計算させる。\n",
    "list_functions.list_dot([1,1,1], [0,1,1])"
   ]
  },
  {
   "cell_type": "markdown",
   "metadata": {},
   "source": [
    "なお、関数のカッコ内にカーソルがある状態で `Shift + Tab` を押すことで、関数の中に書いた説明（docstring という）を表示させることができる。\n",
    "\n",
    "![image](figs/listdot_help.png)"
   ]
  },
  {
   "cell_type": "markdown",
   "metadata": {},
   "source": [
    "### 課題\n",
    "\n",
    "2つの行列 A と B の積を計算する関数をスクリプトファイルとして作成せよ。\n",
    "適当な2つの行列積を、そのスクリプトファイルをインポートすることで実行せよ。\n",
    "\n",
    "なお、1つのスクリプトファイルの中には複数の関数を記述することができる。\n",
    "上記関数を、`list_functions.py` の中に `list_product` という名前で作成せよ。"
   ]
  },
  {
   "cell_type": "markdown",
   "metadata": {},
   "source": [
    "## スクリプトファイルの実行\n",
    "\n",
    "これまではJupyter-notebookを用いてスクリプトを実行してきたが、Python は単体で実行することができる。\n",
    "といっても、Jupyter-notebook に記述したスクリプトを1つのファイルにまとめるだけである。\n",
    "\n",
    "上記のlist_dot関数を用いた内積の計算を行うスクリプトファイルを作成するには、\n",
    "\n",
    "1. list_functions.py と同じフォルダ内に、適当な名前のファイル（例えば list_dot_script.py）を作成する。\n",
    "2. 上で作った内容をファイル内に記述する。\n",
    "具体的には以下のようなものである。\n",
    "\n",
    "```python\n",
    "import list_functions\n",
    "\n",
    "print(list_functions.list_dot([1,1,1], [0,1,1])\n",
    "```\n",
    "\n",
    "3. このようにして作成したスクリプトファイルは、コマンドプロンプトから実行することになる。\n",
    "まず、コマンドプロンプトを新たに起動し、上記スクリプトファイルがあるフォルダに移動する。\n",
    "\n",
    "```bash\n",
    "cd \\d M:\n",
    "cd Documents/johokiso_enshu\n",
    "```\n",
    "\n",
    "以下のようなコマンドで実行できる。\n",
    "\n",
    "```bash\n",
    "python list_dot_script.py\n",
    "```"
   ]
  },
  {
   "cell_type": "markdown",
   "metadata": {},
   "source": [
    "### 課題\n",
    "\n",
    "2つの行列の積を計算するスクリプトファイルを`list_product_script.py` という名前で作成し、実行せよ。\n",
    "また、実行結果をスクリーンショットに撮り、メール添付せよ。"
   ]
  },
  {
   "cell_type": "markdown",
   "metadata": {},
   "source": [
    "# 他のプログラミング言語の学習\n",
    "\n",
    "\n",
    "## インタープリタとコンパイラ\n",
    "\n",
    "世の中には様々なプログラミング言語があり、性質がそれぞれ異なる。\n",
    "本演習ではプログラミング言語としてPythonを学習するが、\n",
    "別の授業では別の言語を用いることもある。\n",
    "以下に述べるように、プログラミング言語にはインタープリタ言語とコンパイラ言語という大きく異なる２種類に分類できる。\n",
    "本節では、その違いを学習する。\n",
    "\n",
    "これまで学習してきたPythonは”インタープリタ”とよばれる種類のプログラミング言語である。\n",
    "インタープリタでは、コンピュータがソースコードを１文ずつ読み込み、\n",
    "それをコンピュータが実行できる形式に内部的に変更し、順番に実行していく。\n",
    "その変換・実行は１行ずつ行われるので、例えばソースコードの後半にバグがあっても途中までは実行されることになる。\n",
    "\n",
    "一方で、コンパイラと呼ばれる種類のプログラミング言語もある。\n",
    "主には\n",
    "\n",
    "- Fortran\n",
    "- C\n",
    "- C++\n",
    "\n",
    "などがそれにあたる。\n",
    "コンパイラ言語では、\n",
    "コンピュータはまず全てのソースコードをコンピュータが実行できる形式に変換する。\n",
    "そのようにして作成されたファイルを実行ファイルと呼ぶ。\n",
    "ソースコードに記載した内容を実行するためには、コンパイルによって作成された実行ファイルを用いる。\n",
    "\n",
    "コンパイラ言語の特徴は”高速な実行が可能”な点であり、シミュレーションや、\n",
    "OS（オペレーティングシステム）など、高速な挙動が求められる用途に用いられる。\n",
    "一方でその短所は\n",
    "\n",
    "- 一般に文法が厳密であり、同じ作業を記述するためにもインタープリタと比較しソースコードが長くなる\n",
    "- コンパイル（実行ファイルを作成する操作）に時間がかかる\n",
    "- デバッグ作業・コードの修正に時間がかかる\n",
    "- 実行環境に依存性がある（Windowsでコンパイルした実行ファイルはMacでは動かない）\n",
    "\n",
    "などがある。\n",
    "\n",
    "ただし、現在ではデバッグが容易なコンパイラ言語の開発環境が開発されていたり\n",
    "高速計算が可能なインタープリタ言語が開発されていたりするので両者の境界はあいまいになりつつある。\n",
    "例えば、PythonのNumpyによる行列演算などはFortranで実装されており高速に行うことができる。\n",
    "\n",
    "\n",
    "\n",
    "## コンパイラ言語 Fortran での開発\n",
    "\n",
    "ここではコンパイラ言語として、Fortran90 と呼ばれる言語を簡単に学ぶ。\n",
    "なお、Fortranは特に高速計算に向いた言語であり、\n",
    "科学シミュレーション分野でよく用いられるものである。\n",
    "\n",
    "まず、適当なフォルダ内に HelloWorld.f90 という名前の新しいテキストファイルを作成する。\n",
    "\n",
    "ファイル内に以下を記述し、保存する。\n",
    "\n",
    "```fortran\n",
    "program HelloWorld\n",
    "    write(6,*) 'Hello World!'     ! 出力. クォーテーションマークの内側は任意の文字列.\n",
    "    stop     ! プログラムを停止.\n",
    "end program HelloWorld\n",
    "```\n",
    "\n",
    "### コンパイル・実行\n",
    "\n",
    "\n",
    "まず、コマンド・プロンプトで上記ファイルを保存したディレクトリに移動する。\n",
    "例えば\n",
    "\n",
    "```bash\n",
    "cd /d M:\n",
    "cd Johokiso-enshu\n",
    "```\n",
    "\n",
    "Fortranのようなコンパイル言語では、まず作成したコードをコンピュータが理解できる\n",
    "実行ファイルに変換する必要がある。\n",
    "その操作をコンパイルと呼ぶ。\n",
    "\n",
    "教育用情報端末でFortranをコンパイルするには、`gfortran` を用いる。\n",
    "コマンドプロンプ卜で以下を実行する。\n",
    "\n",
    "```bash\n",
    "gfortran HelloWorld.f90 -o HelloWorld.exe\n",
    "```\n",
    "\n",
    "上記コマンドは、Fortranで書かれたソースコードHelloWorld.f90をコンパイルし、\n",
    "HelloWorld.exe という実行ファイルを作成するための命令である。\n",
    "この操作が成功すると、同じフォルダ内に`HelloWorld.exe`というファイルが作成される。\n",
    "コマンドプロンプトで\n",
    "\n",
    "```bash\n",
    "dir\n",
    "```\n",
    "\n",
    "を実行することで、同フォルダ内のファイル一覧を表示することができるので確認すること。\n",
    "\n",
    "実際のプログラムの実行は、このファイルを用いて行う。\n",
    "コマンドプロンプト上で\n",
    "\n",
    "```bash\n",
    "HelloWorld.exe\n",
    "```\n",
    "\n",
    "と入力すれば , クォーテーションマークの内側に書いた文字列\n",
    "( サンプルプログラムでは Hello World!) がその\n",
    "まま画面上に表示される .\n",
    "\n",
    "\n",
    "## 課題\n",
    "\n",
    "以下のFortranソースコードをvariable.f90というファイル名で保存し、\n",
    "コンパイルした後、実行せよ。\n",
    "実行した時のスクリーンショットをメール添付せよ。\n",
    "\n",
    "```fortran\n",
    "program LightSpeed\n",
    "    !\n",
    "    ! この例題では, 光が1秒間に地球を何周するかを計算する.\n",
    "    !\n",
    "    implicit none     ! 暗黙の型宣言の禁止.\n",
    "    double precision:: c          ! 光速\n",
    "    double precision:: dia_km     ! 地球の直径 単位：km\n",
    "    double precision:: dia_m      ! 地球の直径 単位：m\n",
    "    double precision:: circumference ! 地球赤道面の円周.\n",
    "    double precision:: pi         ! 円周率\n",
    "\n",
    "    c = 299792458.d0      ! 単位：[m/s]\n",
    "    dia_km = 12742.d0     ! 単位：[km]\n",
    "    pi = acos(-1.d0)      ! 円周率. 単位:[1]\n",
    "\n",
    "    dia_m = dia_km * 1.0d3     ! 単位を km から m に変換する.\n",
    "    circumference = dia_m * pi  ! 円周(単位：m)を直径×円周率で求める.\n",
    "    write(6,*) c/circumference, ' times/s'\n",
    "\n",
    "    stop\n",
    "end program LightSpeed\n",
    "```"
   ]
  }
 ],
 "metadata": {
  "anaconda-cloud": {},
  "kernelspec": {
   "display_name": "Python [Root]",
   "language": "python",
   "name": "Python [Root]"
  },
  "language_info": {
   "codemirror_mode": {
    "name": "ipython",
    "version": 3
   },
   "file_extension": ".py",
   "mimetype": "text/x-python",
   "name": "python",
   "nbconvert_exporter": "python",
   "pygments_lexer": "ipython3",
   "version": "3.5.2"
  },
  "latex_envs": {
   "bibliofile": "biblio.bib",
   "cite_by": "apalike",
   "current_citInitial": 1,
   "eqLabelWithNumbers": true,
   "eqNumInitial": 0
  },
  "toc": {
   "toc_cell": false,
   "toc_number_sections": true,
   "toc_threshold": 6,
   "toc_window_display": false
  }
 },
 "nbformat": 4,
 "nbformat_minor": 0
}
