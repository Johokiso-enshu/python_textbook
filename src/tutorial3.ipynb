{
 "cells": [
  {
   "cell_type": "markdown",
   "metadata": {},
   "source": [
    "# Python 入門３\n",
    "\n",
    "この回では、ファイル関連の操作を学習する。\n",
    "\n",
    "まず、計算結果のファイル保存、ファイルからの読み込みの方法を学ぶ。\n",
    "\n",
    "さらに、関数などよく用いる操作をスクリプトファイルとして保存し、それをJupyter-notebook などから呼び出す方法について学ぶ。"
   ]
  },
  {
   "cell_type": "markdown",
   "metadata": {},
   "source": [
    "## ファイルの保存\n",
    "\n",
    "以前作成したフィボナッチ数列をファイルに保存する方法を学ぶ。\n",
    "\n",
    "Python の変数の内容は、Python を停止したり(Jupyter-notebook を用いる場合はそれを停止したり)、PCの電源を切ると、その内容は破棄される。\n",
    "しかし、結果をテキストファイルなどで保存しておくと、その結果はPCの電源が切れても残される。\n",
    "\n",
    "またテキストファイルにしておくことで、Pythonの環境がないPCやスマートフォンでも内容を確認することができ、\n",
    "エクセルなど別のソフトウェアで読み込むことも可能となる。"
   ]
  },
  {
   "cell_type": "markdown",
   "metadata": {},
   "source": [
    "### np.savetxt を用いたファイルの保存\n",
    "\n",
    "今回は一例として、フィボナッチ数列の計算結果をリストに保存することにする。"
   ]
  },
  {
   "cell_type": "code",
   "execution_count": 2,
   "metadata": {},
   "outputs": [
    {
     "name": "stdout",
     "output_type": "stream",
     "text": [
      "[0, 1, 1, 2, 3, 5, 8, 13, 21, 34, 55, 89, 144, 233, 377, 610, 987]\n"
     ]
    }
   ],
   "source": [
    "a, b = 0, 1\n",
    "fibonacci = [a] # 最初の要素のみが入ったリストを用意する。\n",
    "while b < 1000:\n",
    "    fibonacci.append(b) # リストにbの値を追加する。\n",
    "    a, b = b, a+b # 現在のbの値と、現在のaとbの値から計算したa+bの値をそれぞれ aとbに代入する。\n",
    "print(fibonacci)"
   ]
  },
  {
   "cell_type": "markdown",
   "metadata": {},
   "source": [
    "計算結果をファイルに保存する方法は、 `numpy` の `savetxt` 関数を用いることである。\n",
    "\n",
    "`savetxt` 関数の基本的な使い方は、 `savetxt([ファイル名], [保存する変数])` である。"
   ]
  },
  {
   "cell_type": "code",
   "execution_count": 3,
   "metadata": {},
   "outputs": [],
   "source": [
    "import numpy as np\n",
    "\n",
    "np.savetxt('fibonacci.txt', fibonacci)"
   ]
  },
  {
   "cell_type": "markdown",
   "metadata": {},
   "source": [
    "上記を実行した後、fibonacci.txt ファイルが作成されていることを確認せよ。  "
   ]
  },
  {
   "cell_type": "markdown",
   "metadata": {},
   "source": [
    "### 課題1\n",
    "\n",
    "$$\n",
    "f(n)=\\log(n!)\n",
    "$$\n",
    "\n",
    "となる $f(n)$ の値を、 $n∈1,...,30$ に対し計算し、`factorial.txt` という名前のファイルに保存せよ。\n",
    "計算結果をPandAに添付し提出せよ。"
   ]
  },
  {
   "cell_type": "markdown",
   "metadata": {},
   "source": [
    "## ファイルの読み込み\n",
    "\n",
    "同様に、実験で得られた結果や、エクセルなど外部プログラムをPyhonで解析したいこともよくある。\n",
    "その場合、テキストファイルに一度結果を保存しそれをPythonで読み込む方法が簡単である。"
   ]
  },
  {
   "cell_type": "markdown",
   "metadata": {},
   "source": [
    "### np.loadtxt を用いた実験データの読み込み\n",
    "\n",
    "あるバネに重りをかけた時のバネの全長を計測した仮想的な実験結果を想定する。\n",
    "以下のURLから`young.txt`ファイルをダウンロードし、ノートブックと同じフォルダに保存する。\n",
    "\n",
    "URL:\n",
    "[https://raw.githubusercontent.com/Johokiso-enshu/python_textbook/master/src/young.txt](https://raw.githubusercontent.com/Johokiso-enshu/python_textbook/master/src/young.txt)\n",
    "\n",
    "\n",
    "テキストファイルの内容を確認すると、二列のデータがあることがわかる。\n",
    "このようなファイルを読み込むのに最も簡単な方法は、`numpy` の `loadtxt` 関数を用いることである。\n",
    "\n",
    "`loadtxt` 関数の基本的な使い方は、`loadtxt([ファイル名], unpack=True)` である。"
   ]
  },
  {
   "cell_type": "code",
   "execution_count": 4,
   "metadata": {},
   "outputs": [],
   "source": [
    "weight, length = np.loadtxt('young.txt', unpack=True)"
   ]
  },
  {
   "cell_type": "code",
   "execution_count": 5,
   "metadata": {},
   "outputs": [
    {
     "data": {
      "text/plain": [
       "array([   0.,   10.,   20.,   50.,  100.,  150.,  200.,  300.])"
      ]
     },
     "execution_count": 5,
     "metadata": {},
     "output_type": "execute_result"
    }
   ],
   "source": [
    "weight"
   ]
  },
  {
   "cell_type": "code",
   "execution_count": 6,
   "metadata": {},
   "outputs": [
    {
     "data": {
      "text/plain": [
       "array([  91.3,   95.4,   96.7,  105. ,  115.9,  127.2,  139.6,  162.4])"
      ]
     },
     "execution_count": 6,
     "metadata": {},
     "output_type": "execute_result"
    }
   ],
   "source": [
    "length"
   ]
  },
  {
   "cell_type": "markdown",
   "metadata": {},
   "source": [
    "結果をグラフに表示せよ。"
   ]
  },
  {
   "cell_type": "code",
   "execution_count": 7,
   "metadata": {
    "collapsed": true
   },
   "outputs": [],
   "source": [
    "%matplotlib inline\n",
    "import matplotlib.pyplot as plt"
   ]
  },
  {
   "cell_type": "code",
   "execution_count": 8,
   "metadata": {
    "scrolled": true
   },
   "outputs": [
    {
     "data": {
      "text/plain": [
       "[<matplotlib.lines.Line2D at 0x7f1ea034bc18>]"
      ]
     },
     "execution_count": 8,
     "metadata": {},
     "output_type": "execute_result"
    },
    {
     "data": {
      "image/png": "[encoded data removed]",
      "text/plain": [
       "<matplotlib.figure.Figure at 0x7f1eb80be3c8>"
      ]
     },
     "metadata": {},
     "output_type": "display_data"
    }
   ],
   "source": [
    "plt.plot(weight, length, 'o')"
   ]
  },
  {
   "cell_type": "markdown",
   "metadata": {},
   "source": [
    "## コマンドラインからの実行\n",
    "\n",
    "### Python スクリプトファイル\n",
    "\n",
    "これまでは、Jupyter-notebook を用いてプログラム開発を行ってきた。\n",
    "Jupyter-notebook は試行錯誤しながらプログラムの開発する時には便利であるが :\n",
    "\n",
    "- 繰り返し用いるプログラム\n",
    "- 常時運転させるソフトウェア\n",
    "- GUI 環境のないワークステーション内での計算\n",
    "\n",
    "などでは、Jupyter-notebook を用いた対話的な操作よりも、スクリプトファイルとして開発する方が望ましい。\n",
    "\n",
    "本節では、繰り返し用いる関数をスクリプトファイル化し、\n",
    "Jupyter-notebook から呼び出す方法について学ぶ。\n",
    "例として、以前開発した２つのベクトルの内積を計算する `list_dot` 関数を\n",
    "スクリプトファイルとして保存しよう。\n",
    "注意点は:\n",
    "\n",
    "- スクリプトファイル名は、`.py` で終わる必要がある\n",
    "- スクリプトファイル内で用いるパッケージは全てスクリプトファイル内でimport する必要がある\n",
    "  例えば、numpy の関数を用いるスクリプトファイルでは、ファイルの冒頭に `import numpy as np`\n",
    "  を記述する必要がある。\n",
    "- スクリプトファイル内からは、スクリプトファイル外の変数にはアクセスできない\n",
    "\n",
    "ことなどである。\n",
    "\n",
    "\n",
    "\n",
    "### スクリプトファイル内の関数を呼び出す\n",
    "\n",
    "\n",
    "\n",
    "まず Jupyter-notebook の作業フォルダ内に、\n",
    "`list_functions.py` というファイル名の空のファイルを作成する。\n",
    "作業フォルダ内で右クリックし、新しいファイルを作成し、\n",
    "作成したファイルを notebook++ などのテキストエディタで編集する。\n",
    "\n",
    "上で挙げた注意点に気をつけながら以下をファイル中に記述し、保存する。\n",
    "\n",
    "----------------------------------\n",
    "\n",
    "```Python\n",
    "def list_dot(x1, x2):\n",
    "  \"\"\"\n",
    "  2つのリストを受け取り、その内積を計算する関数。\n",
    "  \"\"\"\n",
    "  dot = 0.0\n",
    "  for i in range(len(x1)):\n",
    "      dot += x1[i]*x2[i] # x += y は、x に x+y を代入することを表す。\n",
    "  return dot # return 文で計算した値を返す。\n",
    "```\n",
    "\n",
    "----------------------------------"
   ]
  },
  {
   "cell_type": "markdown",
   "metadata": {},
   "source": [
    "ここで作成したスクリプトファイルは、別のスクリプトファイルやJupyter-notebookなどから呼び出すことができる。\n",
    "\n",
    "呼び出すためには、 `numpy` の関数を呼び出す時のように、`import`文を用いて呼び出しを宣言する。\n",
    "（なお、ファイル拡張子 `.py` の部分は省略する必要がある）"
   ]
  },
  {
   "cell_type": "code",
   "execution_count": 9,
   "metadata": {
    "collapsed": true
   },
   "outputs": [],
   "source": [
    "import list_functions"
   ]
  },
  {
   "cell_type": "markdown",
   "metadata": {},
   "source": [
    "`list_functions` の中に作成した `list_dot` 関数を呼び出すためには、  \n",
    "`list_functions.list_dot`  \n",
    "というように、`.`に続けて関数名を指定する。"
   ]
  },
  {
   "cell_type": "code",
   "execution_count": 10,
   "metadata": {},
   "outputs": [
    {
     "data": {
      "text/plain": [
       "2.0"
      ]
     },
     "execution_count": 10,
     "metadata": {},
     "output_type": "execute_result"
    }
   ],
   "source": [
    "# [1,1,1] と [0,1,1] の内積を計算させる。\n",
    "list_functions.list_dot([1,1,1], [0,1,1])"
   ]
  },
  {
   "cell_type": "markdown",
   "metadata": {},
   "source": [
    "なお、関数のカッコ内にカーソルがある状態で `Shift + Tab` を押すことで、関数の中に書いた説明（docstring という）を表示させることができる。\n",
    "\n",
    "![image](figs/listdot_help.png)"
   ]
  },
  {
   "cell_type": "markdown",
   "metadata": {},
   "source": [
    "### 課題2\n",
    "\n",
    "2つの行列 A と B の積を計算する関数をスクリプトファイルとして作成せよ。\n",
    "適当な2つの行列積を、そのスクリプトファイルをインポートすることで実行せよ。\n",
    "\n",
    "なお、1つのスクリプトファイルの中には複数の関数を記述することができる。\n",
    "上記関数を、`list_functions.py` の中に `list_product` という名前で作成せよ。"
   ]
  },
  {
   "cell_type": "code",
   "execution_count": 11,
   "metadata": {
    "collapsed": true
   },
   "outputs": [],
   "source": [
    "# 解答をここに記入する"
   ]
  },
  {
   "cell_type": "markdown",
   "metadata": {},
   "source": [
    "## スクリプトファイルの実行\n",
    "\n",
    "これまではJupyter-notebookを用いてスクリプトを実行してきたが、Python は単体で実行することができる。\n",
    "といっても、Jupyter-notebook に記述したスクリプトを1つのファイルにまとめるだけである。\n",
    "\n",
    "上記のlist_dot関数を用いた内積の計算を行うスクリプトファイルを作成するには、\n",
    "\n",
    "1. list_functions.py と同じフォルダ内に、適当な名前のファイル（例えば list_dot_script.py）を作成する。\n",
    "2. 上で作った内容をファイル内に記述する。\n",
    "具体的には以下のようなものである。\n",
    "\n",
    "```python\n",
    "import list_functions\n",
    "\n",
    "print(list_functions.list_dot([1,1,1], [0,1,1])\n",
    "```\n",
    "\n",
    "3. このようにして作成したスクリプトファイルは、コマンドプロンプトから実行することになる。\n",
    "まず、コマンドプロンプトを新たに起動し、上記スクリプトファイルがあるフォルダに移動する。\n",
    "\n",
    "```bash\n",
    "cd \\d M:\n",
    "cd Documents/johokiso_enshu\n",
    "```\n",
    "\n",
    "以下のようなコマンドで実行できる。\n",
    "\n",
    "```bash\n",
    "python list_dot_script.py\n",
    "```"
   ]
  },
  {
   "cell_type": "markdown",
   "metadata": {},
   "source": [
    "### 課題3\n",
    "\n",
    "2つの行列の積を計算するスクリプトファイルを`list_product_script.py` という名前で作成し、実行せよ。\n",
    "また、実行結果をスクリーンショットに撮り、メール添付せよ。"
   ]
  },
  {
   "cell_type": "code",
   "execution_count": null,
   "metadata": {
    "collapsed": true
   },
   "outputs": [],
   "source": []
  }
 ],
 "metadata": {
  "anaconda-cloud": {},
  "kernelspec": {
   "display_name": "Python 3",
   "language": "python",
   "name": "python3"
  },
  "language_info": {
   "codemirror_mode": {
    "name": "ipython",
    "version": 3
   },
   "file_extension": ".py",
   "mimetype": "text/x-python",
   "name": "python",
   "nbconvert_exporter": "python",
   "pygments_lexer": "ipython3",
   "version": "3.8.5"
  },
  "latex_envs": {
   "bibliofile": "biblio.bib",
   "cite_by": "apalike",
   "current_citInitial": 1,
   "eqLabelWithNumbers": true,
   "eqNumInitial": 0
  },
  "toc": {
   "toc_cell": false,
   "toc_number_sections": true,
   "toc_threshold": 6,
   "toc_window_display": false
  }
 },
 "nbformat": 4,
 "nbformat_minor": 1
}
