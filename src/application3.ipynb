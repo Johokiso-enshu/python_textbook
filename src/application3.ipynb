{
 "cells": [
  {
   "cell_type": "markdown",
   "metadata": {},
   "source": [
    "# Pythonの応用3 〜数値計算の高速化〜\n",
    "\n",
    "コンピュータによる数値計算は、手計算では解を求めることができないような複雑な問題であっても、\n",
    "計算誤差の範囲内で近似的に解くことができる。\n",
    "そのため現代の科学技術を支える非常に強力な手段である。\n",
    "しかしながら、多くの場合すぐに計算量が膨大になり、現実的な時間内に計算が終わらなくなってしまう。\n",
    "それを克服するためには、アルゴリズムを工夫して意味のない計算を省略するなどして、\n",
    "計算時間を短くすることが必要である. \n",
    "\n",
    "この章では**素数の探索**という簡単な例を用いて, 数値計算の高速化を体験する. \n",
    "\n",
    "\n",
    "## 素数探索\n",
    "素数とは1と自分以外に約数をもたない自然数のことである.\n",
    "ここでは, 計算機を用いて膨大な数の素数をいかに速く求めるかを目指す. "
   ]
  },
  {
   "cell_type": "markdown",
   "metadata": {},
   "source": [
    "### 課題1\n",
    "ある自然数$n$を与え, それを$n-1$までの自然数で割り算することにより, \n",
    "$n$が素数かどうかを判定する関数を作成せよ. \n",
    "（ヒント：余りを計算するためには`%`を用いる。例えば、5を3で割った時の余りは以下のようにして求めることができる。）"
   ]
  },
  {
   "cell_type": "code",
   "execution_count": 1,
   "metadata": {
    "collapsed": false
   },
   "outputs": [
    {
     "data": {
      "text/plain": [
       "2"
      ]
     },
     "execution_count": 1,
     "metadata": {},
     "output_type": "execute_result"
    }
   ],
   "source": [
    "5 % 3"
   ]
  },
  {
   "cell_type": "markdown",
   "metadata": {},
   "source": [
    "### 課題2\n",
    "上記の関数を用いて、 10,000番目の素数の値を求めるプログラムを作成せよ. "
   ]
  },
  {
   "cell_type": "markdown",
   "metadata": {},
   "source": [
    "## 実行速度の計測\n",
    "\n",
    "次に、上で作成したプログラムの高速化に取り組む. \n",
    "\n",
    "プログラムの高速化を行うためには、やみくもに試行錯誤を行なうのではなく、\n",
    "どの計算に時間がかかっているか(ホットスポットと呼ばれる)を調べ、\n",
    "多くの計算時間が費やしている部分を重点的に改善することが必要である。\n",
    "\n",
    "プログラムの実行時間は, `Time`パッケージの`Time`関数により得ることができる.\n",
    "以下に, 計算時間を計測するプログラムの一例を示す. \n"
   ]
  },
  {
   "cell_type": "code",
   "execution_count": 2,
   "metadata": {
    "collapsed": true
   },
   "outputs": [],
   "source": [
    "import numpy as np\n",
    "import time"
   ]
  },
  {
   "cell_type": "code",
   "execution_count": 3,
   "metadata": {
    "collapsed": false
   },
   "outputs": [
    {
     "name": "stdout",
     "output_type": "stream",
     "text": [
      "Calculation took 0.0008683204650878906 s\n"
     ]
    }
   ],
   "source": [
    "# 計算実行前の時間を取得する。この関数の戻り値はある基準時間から何秒経ったかを返す。\n",
    "before = time.time()\n",
    "\n",
    "# sin(1.2) を1000回計算する\n",
    "for i in range(1000):\n",
    "    rslt = np.sin(1.2)\n",
    "    \n",
    "# 計算実行後の時間を取得する\n",
    "after = time.time()\n",
    "# 差を表示する。なお、`str()` 関数は、引数内の値を文字列に変換する関数である。\n",
    "print('Calculation took ' + str(after - before) + ' s')"
   ]
  },
  {
   "cell_type": "markdown",
   "metadata": {},
   "source": [
    "### 課題3\n",
    "\n",
    "+ 10,000 番目の素数を探索するのに必要な時間を計測するプログラムを作成せよ。\n",
    "+ $i$番目の素数の探索にかかった時間$t(i)$をグラフに描画し、その様子から素数探索にかかる時間の特徴を考察せよ。\n",
    "+ 上での考察を元にアルゴルズムを工夫し、10,000 番目の素数を探索する高速なプログラムを作成せよ。\n",
    "もし10,000 番目の素数を1秒以内に見つけることができれば、100,000番目の素数探索にも挑戦せよ。"
   ]
  }
 ],
 "metadata": {
  "anaconda-cloud": {},
  "kernelspec": {
   "display_name": "Python 3",
   "language": "python",
   "name": "python3"
  },
  "language_info": {
   "codemirror_mode": {
    "name": "ipython",
    "version": 3
   },
   "file_extension": ".py",
   "mimetype": "text/x-python",
   "name": "python",
   "nbconvert_exporter": "python",
   "pygments_lexer": "ipython3",
   "version": "3.6.3"
  }
 },
 "nbformat": 4,
 "nbformat_minor": 0
}
