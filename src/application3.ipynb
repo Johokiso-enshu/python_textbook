{
 "cells": [
  {
   "cell_type": "markdown",
   "metadata": {},
   "source": [
    "# Pythonの応用3 〜運動方程式の数値解〜\n",
    "\n",
    "前回の演習では一階の連立微分方程式の数値シミュレーションを取り扱った.\n",
    "今回はこれを応用して, 二階の微分方程式である運動方程式の解法を学び,\n",
    "スポーツの一場面を力学的に解析してみよう."
   ]
  },
  {
   "cell_type": "markdown",
   "metadata": {},
   "source": [
    "## 物体の自由落下のシミュレーション\n",
    "\n",
    "ここでは, 以下のような質点の自由落下をシミュレートする.\n",
    "\n",
    "![自由落下のモデル](figs/freefall.png)\n",
    "\n",
    "自由落下運動の模式図. 時刻 $t = 0$ に $x(0)=h$ で鉛直方向に速度 $u_0$ で\n",
    "運動している物体（図の赤丸）の軌道をシミュレートする.\n",
    "位置 $x$ および速度 $u$ の模式図は中・右図のようになる."
   ]
  },
  {
   "cell_type": "markdown",
   "metadata": {},
   "source": [
    "質点の質量を $m$ 、重力加速度を $g$ 、初期位置を $h$ 、初速を $u_0$ とする。\n",
    "鉛直座標として $x$ をとると, 運動方程式は\n",
    "\n",
    "$$\n",
    "m\\frac{d^2x}{dt^2}=-mg, \\ \\ \\ x(0)=h, \\ \\ \\ \\frac{dx}{dt}(0)=u_0\n",
    "$$\n",
    "\n",
    "で与えられる.\n",
    "その解は\n",
    "\n",
    "$$\n",
    "x(t)=h+u_0t-\\frac{1}{2}gt^2.\n",
    "$$\n",
    "\n",
    "であるが, これをコンピュータを用いて近似的に求めてみよう.\n",
    "\n",
    "上式を以下のように変形することで一階の連立微分方程式が得られる.\n",
    "\n",
    "$$\n",
    "\\frac{dx}{dt}=u, \\ \\ \\ x(0)=h, \\\\[3pt]\n",
    "\\frac{du}{dt}=-g, \\ \\ \\ u(0)=u_0.\n",
    "$$\n",
    "\n",
    "これを前回学習したEuler法を用いて数値的に解けばよい.\n",
    "プログラムの例を以下に示す.\n",
    "計算した $x, u$ の時間変化をグラフにし,　厳密解と比較してみよ."
   ]
  },
  {
   "cell_type": "code",
   "execution_count": 29,
   "metadata": {
    "collapsed": true
   },
   "outputs": [],
   "source": [
    "import numpy as np\n",
    "%matplotlib inline\n",
    "import matplotlib.pyplot as plt\n",
    "\n",
    "def next_x(x, u, dt):\n",
    "    \"\"\"\n",
    "    現在の x, u の値から、dt 後のxを求める関数。\n",
    "    args:\n",
    "    + x: 時刻 t での空間座標\n",
    "    + u: 時刻 t での速度\n",
    "    + dt: 線形近似する時間幅\n",
    "    return:\n",
    "     時刻t+dtでのxの値\n",
    "    \"\"\"\n",
    "    return u*dt + x\n",
    "\n",
    "def next_u_vacuum(x, u, dt, g):\n",
    "    \"\"\"\n",
    "    現在の x, u の値から、dt 後のxを求める関数。空気抵抗は考慮しない。\n",
    "    args:\n",
    "    + x: 時刻 t での空間座標\n",
    "    + u: 時刻 t での速度\n",
    "    + dt: 線形近似する時間幅\n",
    "    + g: 重力加速度の値\n",
    "    return:\n",
    "     時刻t+dt での u の値\n",
    "    \"\"\"\n",
    "    return -g*dt + u\n",
    "\n",
    "def solve_freefall_vacuum(x0, u0, dt, tmax):\n",
    "    \"\"\"\n",
    "    t=0 に位置h、速度u0の物体の自由落下をシミュレートする関数。\n",
    "    args:\n",
    "    + x0: t=0での座標 [m]\n",
    "    + u0: t=0での速度 [m/s]\n",
    "    + dt: オイラー法を用いるための時間軸の刻み幅 [s]\n",
    "    + tmax: 追跡を行う最大時間 [s]\n",
    "    \"\"\"\n",
    "    # 計算結果を代入するリスト\n",
    "    x_list = []\n",
    "    u_list = []\n",
    "    t_list = []\n",
    "    \n",
    "    g = 9.81 # 重力加速度 [m/s^2]\n",
    "    \n",
    "    # 初期値の代入\n",
    "    x = x0\n",
    "    u = u0\n",
    "    t = 0.0\n",
    "    \n",
    "    while(t < tmax):\n",
    "        x_list.append(x)\n",
    "        u_list.append(u)\n",
    "        t_list.append(t)\n",
    "        \n",
    "        # x, u, tの値の更新\n",
    "        x = next_x(x,u,dt)\n",
    "        u = next_u_vacuum(x,u,dt,g)\n",
    "        t = t + dt\n",
    "    return x_list, u_list, t_list"
   ]
  },
  {
   "cell_type": "code",
   "execution_count": 30,
   "metadata": {
    "collapsed": false
   },
   "outputs": [
    {
     "data": {
      "image/png": "[encoded data removed]",
      "text/plain": [
       "<matplotlib.figure.Figure at 0x7f8edf22f750>"
      ]
     },
     "metadata": {},
     "output_type": "display_data"
    }
   ],
   "source": [
    "# 数値解\n",
    "x_list, u_list, t_list = solve_freefall_vacuum(1.0, 0.0, 0.001, 1.0)\n",
    "\n",
    "plt.figure(figsize=(8,3))\n",
    "# t vs x のグラフ\n",
    "plt.subplot(1,2,1)\n",
    "plt.plot(t_list, x_list)\n",
    "plt.xlabel('t (s)')\n",
    "plt.ylabel('x (m)')\n",
    "# t vs u のグラフ\n",
    "plt.subplot(1,2,2)\n",
    "plt.plot(t_list, u_list)\n",
    "plt.xlabel('t (s)')\n",
    "plt.ylabel('u (m/s)')\n",
    "# 2つのグラフを綺麗に配置する。\n",
    "plt.tight_layout()"
   ]
  },
  {
   "cell_type": "markdown",
   "metadata": {},
   "source": [
    "## 空気抵抗下での自由落下のシミュレーション\n",
    "\n",
    "上の例では空気抵抗の影響を無視したが、実際の系では多少なりとも空気抵抗が影響を及ぼす。\n",
    "空気抵抗の大きさは物体の速度の大きさの二乗に比例し、その向きは物体の運動方向と逆向きとなる。\n",
    "具体的には、空気抵抗力の大きさ $D$ は物体が球形の場合、\n",
    "\n",
    "$$\n",
    "D=\\frac{1}{2}\\rho |\\mathbf{u}|^2 \\pi a^2 C_D,\n",
    "$$\n",
    "\n",
    "と表せる。\n",
    "なお、 $|\\mathbf{u}|$ は速度ベクトル $\\mathbf{u}$ の絶対値を表す。\n",
    "ここで、 $\\rho$ は空気の密度, $a$ は球の半径である。\n",
    "また、抗力係数 $C_D$ はある条件のもと（注）では約0.44で一定であることが知られている。\n",
    "\n",
    "解くべき微分方程式は、\n",
    "\n",
    "$$\n",
    "\\frac{dx}{dt}=u, \\ \\ \\ x(0)=h, \\\\[3pt]\n",
    "\\frac{du}{dt}=-g-\\frac{D}{m}\\frac{u}{|u|}, \\ \\ \\ u(0)=u_0.\n",
    "$$\n",
    "\n",
    "となる.\n",
    "\n",
    "空気抵抗の影響を含めた落下運動のシミュレーションを行うソースコードは以下のように書ける.\n",
    "計算結果を, 空気抵抗のない場合と比較してみよ."
   ]
  },
  {
   "cell_type": "code",
   "execution_count": 31,
   "metadata": {
    "collapsed": true
   },
   "outputs": [],
   "source": [
    "def next_u_air(x, u, dt, g, rho, a, m):\n",
    "    \"\"\"\n",
    "    現在の x, u の値から、dt 後のxを求める関数。空気抵抗は考慮しない。\n",
    "    args:\n",
    "    + x: 時刻 t での空間座標 [m]\n",
    "    + u: 時刻 t での速度 [m/s]\n",
    "    + dt: 線形近似する時間幅 [s]\n",
    "    + g: 重力加速度の値 [m/s^2]\n",
    "    + rho: 空気の密度 [kg/m^3]\n",
    "    + a: 物体の半径 [m]\n",
    "    + m: 物体の質量 [kg]\n",
    "    return:\n",
    "     時刻t+dt での u の値\n",
    "    \"\"\"\n",
    "    # 効力係数\n",
    "    CD = 0.44 \n",
    "    # 空気抵抗の大きさ\n",
    "    D = 0.5 * rho * u**2.0 * np.pi * a**2.0 * CD\n",
    "    return -g*dt -D/m * np.sign(u) + u\n",
    "\n",
    "\n",
    "def solve_freefall_air(x0, u0, dt, tmax, a, m):\n",
    "    \"\"\"\n",
    "    t=0 に位置h、速度u0の物体の自由落下をシミュレートする関数。\n",
    "    args:\n",
    "    + x0: t=0での座標 [m]\n",
    "    + u0: t=0での速度 [m/s]\n",
    "    + dt: オイラー法を用いるための時間軸の刻み幅 [s]\n",
    "    + tmax: 追跡を行う最大時間 [s]\n",
    "    + rho: 空気の密度 [kg/m^3]\n",
    "    + a: 物体の半径 [m]\n",
    "    + m: 物体の質量 [kg]\n",
    "    \"\"\"\n",
    "    # 計算結果を代入するリスト\n",
    "    x_list = []\n",
    "    u_list = []\n",
    "    t_list = []\n",
    "    \n",
    "    g = 9.81 # 重力加速度 [m/s^2]\n",
    "    rho = 0.01 # kg/m^3\n",
    "    \n",
    "    # 初期値の代入\n",
    "    x = x0\n",
    "    u = u0\n",
    "    t = 0.0\n",
    "    \n",
    "    while(t < tmax):\n",
    "        x_list.append(x)\n",
    "        u_list.append(u)\n",
    "        t_list.append(t)\n",
    "        \n",
    "        # x, u, tの値の更新\n",
    "        x = next_x(x,u,dt)\n",
    "        u = next_u_air(x,u,dt,g,rho,a,m)\n",
    "        t = t + dt\n",
    "    return x_list, u_list, t_list"
   ]
  },
  {
   "cell_type": "code",
   "execution_count": 32,
   "metadata": {
    "collapsed": false
   },
   "outputs": [
    {
     "data": {
      "image/png": "[encoded data removed]",
      "text/plain": [
       "<matplotlib.figure.Figure at 0x7f8edf377550>"
      ]
     },
     "metadata": {},
     "output_type": "display_data"
    }
   ],
   "source": [
    "# 数値解\n",
    "x_list, u_list, t_list = solve_freefall_air(1.0, 0.0, 0.001, 1.0, 0.1, 0.1)\n",
    "\n",
    "plt.figure(figsize=(8,3))\n",
    "# t vs x のグラフ\n",
    "plt.subplot(1,2,1)\n",
    "plt.plot(t_list, x_list)\n",
    "plt.xlabel('t (s)')\n",
    "plt.ylabel('x (m)')\n",
    "# t vs u のグラフ\n",
    "plt.subplot(1,2,2)\n",
    "plt.plot(t_list, u_list)\n",
    "plt.xlabel('t (s)')\n",
    "plt.ylabel('u (m/s)')\n",
    "# 2つのグラフを綺麗に配置する。\n",
    "plt.tight_layout()"
   ]
  },
  {
   "cell_type": "markdown",
   "metadata": {},
   "source": [
    "### 課題\n",
    "上記の関数を用いて、以下を数値的に調べよ。結果をグラフに描画せよ。\n",
    "\n",
    "+ 大きいリンゴと小さいリンゴはどちらが早く落ちるか? リンゴの密度は等しいものとする.\n",
    "+ 同じ大きさのリンゴと鉄球はどちらが早く落ちるか?"
   ]
  },
  {
   "cell_type": "markdown",
   "metadata": {},
   "source": [
    "## 空気抵抗下での野球ボール軌道のシミュレーション\n",
    "\n",
    "ここでは、以下の図に示すような野球ボールの軌道をシミュレートする。\n",
    "ここで野球ボールは、以下のように時刻 $t=0$ で 原点($x=0, z=0$)から,\n",
    "斜め方向に $x, z$ 方向の速度成分 $u_x, u_z$ で打ち出される.\n",
    "\n",
    "![斜方投射の模式図](figs/shahou.png)\n",
    "\n",
    "野球ボール軌道の模式図. 時刻$t = 0$ に $x(0)=0, z(0)=0$ で\n",
    "斜め方向に速度$u_x(0), u_z(0)$で打ち出された球状の物体（図の赤丸）が,\n",
    "重力および空気抵抗の影響を受けて運動する様子をシミュレートする.\n",
    "位置$z$および$z$方向速度$u_z$の模式図は中・右図のようになる."
   ]
  },
  {
   "cell_type": "markdown",
   "metadata": {},
   "source": [
    "この場合, 空気抵抗の$x, z$方向の成分はそれぞれ\n",
    "\n",
    "$$ \n",
    "\\begin{aligned}\n",
    "D_x &= -D u_x / |\\mathbf{u}| \\\\[3pt]\n",
    "D_z &= -D u_z / |\\mathbf{u}| \\\\[3pt]\n",
    "\\end{aligned}\n",
    "$$\n",
    "\n",
    "と表される.\n",
    "\n",
    "運動方程式は, 速度に関する微分方程式\n",
    "\n",
    "$$\n",
    "\\begin{aligned}\n",
    "\\frac{\\mathrm{d}u_x}{\\mathrm{d}t} &= \\frac{D_x}{m},\\\\\n",
    "\\frac{\\mathrm{d}u_z}{\\mathrm{d}t} &= \\frac{D_z}{m} - g,\\\\\n",
    "\\end{aligned}\n",
    "$$\n",
    "\n",
    "と, 位置に関する微分方程式\n",
    "\n",
    "$$\n",
    "\\begin{aligned}\n",
    "\\frac{\\mathrm{d}x}{\\mathrm{d}t} &= u_x,\\\\\n",
    "\\frac{\\mathrm{d}z}{\\mathrm{d}t} &= u_z,\\\\\n",
    "\\end{aligned}\n",
    "$$\n",
    "\n",
    "と表される."
   ]
  },
  {
   "cell_type": "markdown",
   "metadata": {},
   "source": [
    "### 課題\n",
    "\n",
    "大谷翔平は野球ボールを最大球速 165km/h で投げることができる。\n",
    "彼は地面に対しどの方向(角度 $\\theta$)に対してもこの初速で野球ボールを投げ出すことができ、\n",
    "ボールの回転は考慮しないものとする。\n",
    "また、彼の身長は193cmで腕の長さは85cmとする。\n",
    "\n",
    "これら仮定のもとで、以下の状況をシミュレーションせよ。\n",
    "\n",
    "+ 空気抵抗がない場合($C_D=0$), 適当な角度$\\theta$に対するシミュレーションをおこない, 解析解と比較せよ.\n",
    "ボールのリリース点の高さは適当に設定すること.\n",
    "+ 空気抵抗がある場合のシミュレーションをおこない, 空気抵抗がない場合と比較せよ.\n",
    "\n",
    "\n",
    "各物理量の具体的な値については, 以下の表を参考にするとよい.\n",
    "\n",
    "|   パラメータ |      値      |    備考   |\n",
    "|:----------:|:------------:|:---------:|\n",
    "|   $m$ [kg] | 0.145 | 野球ボール |\n",
    "|  半径$a$ [m]|0.036 | 野球ボール |\n",
    "|   重力加速度$g$ [m/s $^2$ ] | 9.80665 | - |\n",
    "|空気の密度 $\\rho$[kg/m $^3$ ] | 1.261 | 280Kの場合 |\n",
    "|                     　      | 1.176 | 300Kの場合 |\n",
    "|空気の動粘性係数 $\\nu \\mathrm([m^2/s])$| 1.395 $\\times 10^{-5}$ | 280Kの場合 |\n",
    "|                                     | 1.579 $\\times 10^{-5}$ | 300Kの場合 |\n",
    "|抗力係数$C_D$[-] | 0.44 | $5 \\times 10^2 < Re < 1 \\times 10^5$のとき |\n",
    "|Reynolds数$Re$[-] | - | $2aU/\\nu$ |"
   ]
  },
  {
   "cell_type": "markdown",
   "metadata": {},
   "source": [
    "### 課題\n",
    "\n",
    "空気抵抗のもとでの放物運動が関係するスポーツシーンを何でもよいので一つ取り上げ, 適当な問題設定に対するシミュレーションを実施せよ.\n",
    "\n",
    "［例］\n",
    "\n",
    "+ 野球ボールを最も遠くまで飛ばすためには,\n",
    "大谷翔平は地面に対しどの角度で野球ボールを投げる必要があるか.\n",
    "+ 大谷翔平が投げたボールがストライクになるためには, どのような角度で投げればよいか.\n",
    "初速, ピッチャーとキャッチャーの距離やストライクゾーンの広さは適当に設定せよ.\n",
    "+ サッカーのフリーキックで壁を越えてゴールに入れるにはどのような初速、角度で蹴ればよいか。\n",
    "ゴールまでの距離や壁の高さは自由に設定せよ。"
   ]
  },
  {
   "cell_type": "markdown",
   "metadata": {},
   "source": [
    "注：\n",
    "<font color=\"Gray\">\n",
    "Reynolds数$Re=2aU/\\nu$ ($\\nu$は空気の動粘性係数, $U$は系の代表速度)と呼ばれる無次元数が\n",
    "$5 \\times 10^2 < Re < 1 \\times 10^5$のときにこの近似が有効である.\n",
    "</font>\n"
   ]
  }
 ],
 "metadata": {
  "anaconda-cloud": {},
  "kernelspec": {
   "display_name": "Python [Root]",
   "language": "python",
   "name": "Python [Root]"
  },
  "language_info": {
   "codemirror_mode": {
    "name": "ipython",
    "version": 3
   },
   "file_extension": ".py",
   "mimetype": "text/x-python",
   "name": "python",
   "nbconvert_exporter": "python",
   "pygments_lexer": "ipython3",
   "version": "3.5.2"
  }
 },
 "nbformat": 4,
 "nbformat_minor": 0
}
