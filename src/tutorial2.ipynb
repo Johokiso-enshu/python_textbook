{
 "cells": [
  {
   "cell_type": "markdown",
   "metadata": {},
   "source": [
    "# Python 入門２\n",
    "\n",
    "この回では、プログラミングの基本的知識についてさらに学ぶ。\n",
    "\n",
    "前回学習した`while`ループのような制御構造である`for`ループや`if`文の使い方、\n",
    "さらに、科学計算用ライブラリ`numpy`の基本的な使用方法について学ぶ。"
   ]
  },
  {
   "cell_type": "markdown",
   "metadata": {},
   "source": [
    "## 繰り返し構造\n",
    "\n",
    "### for ループ\n",
    "\n",
    "`for`ループは、`while`ループによく似た繰り返し処理を行うための枠組みである。\n",
    "ただし、Pythonの`for`ループは、FortranやC言語のものとは少し異なる。"
   ]
  },
  {
   "cell_type": "code",
   "execution_count": 1,
   "metadata": {
    "collapsed": true
   },
   "outputs": [],
   "source": [
    "# 文字列を複数格納したリスト\n",
    "words = ['cat', 'window', 'defenestrate']"
   ]
  },
  {
   "cell_type": "code",
   "execution_count": 2,
   "metadata": {
    "collapsed": false
   },
   "outputs": [
    {
     "name": "stdout",
     "output_type": "stream",
     "text": [
      "cat 3\n",
      "window 6\n",
      "defenestrate 12\n"
     ]
    }
   ],
   "source": [
    "for w in words:\n",
    "    print(w, len(w))"
   ]
  },
  {
   "cell_type": "markdown",
   "metadata": {},
   "source": [
    "ここで`for w in words:`は、\n",
    "\n",
    "+ `words`の中から１つ要素を取り出してきて`w`に代入する。\n",
    "+ `for`文以下ブロックの命令を実行する\n",
    "+ それが終わると、`words`の次の要素を`w`に代入する。\n",
    "+ すべての要素について計算が終われば`for`文の実行を終わる。"
   ]
  },
  {
   "cell_type": "markdown",
   "metadata": {},
   "source": [
    "### range() 関数 を用いた繰り返し\n",
    "\n",
    "`for`文によく用いられるものが`range`関数である。"
   ]
  },
  {
   "cell_type": "code",
   "execution_count": 3,
   "metadata": {
    "collapsed": false
   },
   "outputs": [
    {
     "name": "stdout",
     "output_type": "stream",
     "text": [
      "0\n",
      "1\n",
      "2\n",
      "3\n",
      "4\n"
     ]
    }
   ],
   "source": [
    "for i in range(5):\n",
    "    print(i)"
   ]
  },
  {
   "cell_type": "markdown",
   "metadata": {},
   "source": [
    "このように、`for i in range(5):`とすることで、`i`に0〜4までの数字を順に入れて繰り返し計算をすることが可能である。"
   ]
  },
  {
   "cell_type": "markdown",
   "metadata": {},
   "source": [
    "### for ループの応用 〜ベクトル・行列計算〜\n",
    "\n",
    "これまで学習したリストと `for` ループを使って、ベクトル・行列演算を実装してみよう。\n",
    "\n",
    "なお、ベクトル・行列演算には後述のnumpyという計算ライブラリに実装されている。\n",
    "本来は速度・確実性の観点から、確立されたライブラリのものを用いる方がよい。\n",
    "\n",
    "今回はプログラミング学習のため、あえてこれを実装する。"
   ]
  },
  {
   "cell_type": "code",
   "execution_count": 4,
   "metadata": {
    "collapsed": true
   },
   "outputs": [],
   "source": [
    "# 以下の2つのベクトルの内積を計算する。\n",
    "x = [1.0, 2.0]\n",
    "y = [1.0, 3.0]"
   ]
  },
  {
   "cell_type": "markdown",
   "metadata": {},
   "source": [
    "len(x) がリストxの要素数を返すことを思い出そう。\n",
    "\n",
    "上記の`range()`関数と組み合わせることで\n",
    "\n",
    "`for i in range(len(x)):` \n",
    "\n",
    "`i` を0からxの要素数まで変化させることができる。"
   ]
  },
  {
   "cell_type": "code",
   "execution_count": 5,
   "metadata": {
    "ExecuteTime": {
     "end_time": "2016-07-28T19:46:09.098450",
     "start_time": "2016-07-28T19:46:09.093247"
    },
    "collapsed": true
   },
   "outputs": [],
   "source": [
    "dot = 0.0\n",
    "for i in range(len(x)):\n",
    "    dot += x[i] * y[i]"
   ]
  },
  {
   "cell_type": "code",
   "execution_count": 6,
   "metadata": {
    "ExecuteTime": {
     "end_time": "2016-07-28T19:46:12.352178",
     "start_time": "2016-07-28T19:46:12.347940"
    },
    "collapsed": false
   },
   "outputs": [
    {
     "name": "stdout",
     "output_type": "stream",
     "text": [
      "7.0\n"
     ]
    }
   ],
   "source": [
    "print(dot)"
   ]
  },
  {
   "cell_type": "markdown",
   "metadata": {},
   "source": [
    "同様に、以下のベクトルの内積を計算せよ\n",
    "$$\n",
    "x = \\left(\\begin{array}{ccc}\n",
    "1.0 & 2.0 & 3.0\\end{array}\\right)\n",
    "$$\n",
    "\n",
    "$$\n",
    "y = \\left(\\begin{array}{ccc}\n",
    "2.0 & -1.0 & 2.0\\end{array}\\right)\n",
    "$$"
   ]
  },
  {
   "cell_type": "markdown",
   "metadata": {},
   "source": [
    "行列は、リストの中にリストを作ることで表すことができる。\n",
    "\n",
    "$$\n",
    "A = \\left(\\begin{array}{cc}\n",
    "1.0 & 0.0 \\\\ 2.0 & 3.0\n",
    "\\end{array}\\right)\n",
    "$$\n",
    "\n",
    "は、以下のように表現できる。"
   ]
  },
  {
   "cell_type": "code",
   "execution_count": 7,
   "metadata": {
    "ExecuteTime": {
     "end_time": "2017-02-17T23:37:52.065531",
     "start_time": "2017-02-17T23:37:52.055510"
    },
    "collapsed": false
   },
   "outputs": [
    {
     "name": "stdout",
     "output_type": "stream",
     "text": [
      "[[1.0, 0.0], [2.0, 3.0]]\n"
     ]
    }
   ],
   "source": [
    "A = [[1.0, 0.0], [2.0, 3.0]]\n",
    "print(A)"
   ]
  },
  {
   "cell_type": "code",
   "execution_count": 8,
   "metadata": {
    "ExecuteTime": {
     "end_time": "2017-02-17T23:37:52.999589",
     "start_time": "2017-02-17T23:37:52.995902"
    },
    "collapsed": false
   },
   "outputs": [
    {
     "name": "stdout",
     "output_type": "stream",
     "text": [
      "[1.0, 0.0]\n"
     ]
    }
   ],
   "source": [
    "print(A[0])"
   ]
  },
  {
   "cell_type": "code",
   "execution_count": 9,
   "metadata": {
    "ExecuteTime": {
     "end_time": "2017-02-17T23:37:53.387487",
     "start_time": "2017-02-17T23:37:53.384865"
    },
    "collapsed": false
   },
   "outputs": [
    {
     "name": "stdout",
     "output_type": "stream",
     "text": [
      "0.0\n"
     ]
    }
   ],
   "source": [
    "print(A[0][1])"
   ]
  },
  {
   "cell_type": "markdown",
   "metadata": {},
   "source": [
    "上の例と同様に、行列とベクトルの積を計算せよ。\n",
    "\n",
    "なお、`len(A)`で列の数を、`len(A[0])`で行の数を得ることができる。\n",
    "\n",
    "また、リストの`.append()`関数を使うことでリストへの要素の追加が可能である。"
   ]
  },
  {
   "cell_type": "markdown",
   "metadata": {},
   "source": [
    "$$\n",
    "A = \\left(\\begin{array}{cc}\n",
    "1.0 & 2.0 \\\\\n",
    "2.0 & 3.0\n",
    "\\end{array}\\right)\n",
    "$$\n",
    "\n",
    "$$\n",
    "x = \\left(\\begin{array}{cc}\n",
    "2.0 & -1.0\n",
    "\\end{array}\\right)\n",
    "$$\n",
    "\n",
    "としたときの $A$ と $x$ の内積を計算せよ。"
   ]
  },
  {
   "cell_type": "markdown",
   "metadata": {},
   "source": [
    "## Pythonの関数\n",
    "\n",
    "上記の内積・行列積・外積のように、何度も行う操作を、操作の数だけコードを書くことは非効率である。\n",
    "\n",
    "このような同一の操作を汎用的に行うことができる仕組みを**関数**と呼ぶ。"
   ]
  },
  {
   "cell_type": "markdown",
   "metadata": {},
   "source": [
    "関数は、**引数**で与えられた入力に対して、何か計算した結果を**戻り値**として返すものである。\n",
    "\n",
    "例えば、これまで出てきた`len()`も関数である。\n",
    "\n",
    "リスト`x`が引数に与えられたとき、その要素数を戻り値として返す。"
   ]
  },
  {
   "cell_type": "code",
   "execution_count": 10,
   "metadata": {
    "ExecuteTime": {
     "end_time": "2016-07-28T20:06:48.817423",
     "start_time": "2016-07-28T20:06:48.796588"
    },
    "collapsed": false
   },
   "outputs": [
    {
     "data": {
      "text/plain": [
       "2"
      ]
     },
     "execution_count": 10,
     "metadata": {},
     "output_type": "execute_result"
    }
   ],
   "source": [
    "len(x) # リスト（など）を引数にとり、要素数を返す関数"
   ]
  },
  {
   "cell_type": "markdown",
   "metadata": {},
   "source": [
    "関数は、以下のように定義する。ここでは、2つのリストを引数に持ち、その内積を計算する関数を作る。"
   ]
  },
  {
   "cell_type": "code",
   "execution_count": 11,
   "metadata": {
    "ExecuteTime": {
     "end_time": "2016-07-28T20:09:59.368213",
     "start_time": "2016-07-28T20:09:59.352801"
    },
    "collapsed": true
   },
   "outputs": [],
   "source": [
    "# 関数の例 `def` + 関数の名前（この場合はlist_dot）+ カッコ　として定義する。\n",
    "# カッコの中に引数を入れる。\n",
    "def list_dot(x1, x2):\n",
    "    \"\"\"\n",
    "    2つのリストを受け取り、その内積を計算する関数。\n",
    "    \"\"\"\n",
    "    dot = 0.0\n",
    "    for i in range(len(x1)):\n",
    "        dot += x1[i]*x2[i]\n",
    "    return dot # return 文で計算した値を返す。"
   ]
  },
  {
   "cell_type": "markdown",
   "metadata": {},
   "source": [
    "この場合 ``list_dot(x, y)`` のように関数名（変数, 変数）とすることで、\n",
    "この関数を実行することができる。\n",
    "\n",
    "この関数が実行されると、まず``dot``という変数が定義され、値 0.0 が代入される。\n",
    "次の `for` ループにより内積の値が`dot`に代入される。\n",
    "計算された`dot`の値が返される。"
   ]
  },
  {
   "cell_type": "markdown",
   "metadata": {},
   "source": [
    "このように定義した関数は、繰り返し用いることができる。"
   ]
  },
  {
   "cell_type": "code",
   "execution_count": 12,
   "metadata": {
    "ExecuteTime": {
     "end_time": "2016-07-28T20:10:32.616094",
     "start_time": "2016-07-28T20:10:32.611717"
    },
    "collapsed": false
   },
   "outputs": [
    {
     "name": "stdout",
     "output_type": "stream",
     "text": [
      "4.0\n"
     ]
    }
   ],
   "source": [
    "x = [1.0, 2.0]\n",
    "y = [2.0, 1.0]\n",
    "print(list_dot(x, y))"
   ]
  },
  {
   "cell_type": "code",
   "execution_count": 13,
   "metadata": {
    "ExecuteTime": {
     "end_time": "2016-07-28T20:10:43.383877",
     "start_time": "2016-07-28T20:10:43.371478"
    },
    "collapsed": false
   },
   "outputs": [
    {
     "name": "stdout",
     "output_type": "stream",
     "text": [
      "0.0\n"
     ]
    }
   ],
   "source": [
    "x = [1.0, -2.0]\n",
    "y = [2.0, 1.0]\n",
    "print(list_dot(x, y))"
   ]
  },
  {
   "cell_type": "code",
   "execution_count": 14,
   "metadata": {
    "ExecuteTime": {
     "end_time": "2016-07-28T20:12:39.273684",
     "start_time": "2016-07-28T20:12:39.267753"
    },
    "collapsed": false
   },
   "outputs": [
    {
     "data": {
      "text/plain": [
       "0.0"
      ]
     },
     "execution_count": 14,
     "metadata": {},
     "output_type": "execute_result"
    }
   ],
   "source": [
    "x1 = [0.1, 0.2]\n",
    "y1 = [0.1, -2.0]\n",
    "list_dot(x,y)"
   ]
  },
  {
   "cell_type": "markdown",
   "metadata": {},
   "source": [
    "### 課題\n",
    "\n",
    "2つの行列 $A, B$ の積を計算する関数を作成せよ。\n",
    "1つの関数により、以下の組み合わせの行列に対して内積を計算せよ。\n",
    "\n",
    "1. \n",
    "$$\n",
    "\\;\\; \n",
    "A = \\left(\\begin{array}{cc}\n",
    "1.0 & 2.0 \\\\\n",
    "2.0 & 3.0\n",
    "\\end{array}\\right)\n",
    ",\\;\\;\n",
    "B = \\left(\\begin{array}{cc}\n",
    "-1.0 & -3.0 \\\\\n",
    "0.0 & 1.0\n",
    "\\end{array}\\right)\n",
    "$$\n",
    "\n",
    "2. \n",
    "$$\n",
    "\\;\\; \n",
    "A = \\left(\\begin{array}{ccc}\n",
    "1.0 & 0.1 & 1.5 \\\\\n",
    "0.9 & 0.2 & -1.0\n",
    "\\end{array}\\right)\n",
    ",\\;\\; \n",
    "B = \\left(\\begin{array}{cc}\n",
    "-2.0 & -0.5 \\\\\n",
    "0.0 & 1.2 \\\\\n",
    "0.8 & 1.0 \\\\\n",
    "\\end{array}\\right)\n",
    "$$\n",
    "\n"
   ]
  },
  {
   "cell_type": "markdown",
   "metadata": {},
   "source": [
    "## 数値計算ライブラリNumpy\n",
    "\n",
    "Pythonは科学計算に用いることのできるライブラリが十分に用意されていることが特徴である。\n",
    "ここでは、最も基本的な数値計算ライブラリであるNumpyを使用する。"
   ]
  },
  {
   "cell_type": "markdown",
   "metadata": {},
   "source": [
    "### 基本的な使い方\n",
    "\n",
    "まず、PythonでNumpyを用いるための命令をする必要がある。\n",
    "これは前回学んだ`matplotlib`を用いるときと同様の`import`文を用いる。"
   ]
  },
  {
   "cell_type": "code",
   "execution_count": 15,
   "metadata": {
    "collapsed": true
   },
   "outputs": [],
   "source": [
    "# まず最初に、グラフ描画ライブラリと、数値計算ライブラリをimportしておく。\n",
    "import numpy as np\n",
    "# 同様にmatplotlibもimportしておく。\n",
    "%matplotlib inline\n",
    "import matplotlib.pyplot as plt"
   ]
  },
  {
   "cell_type": "markdown",
   "metadata": {},
   "source": [
    "なお、`as np` の部分は、`numpy`を省略して`np`として用いる、という意味である。\n",
    "\n",
    "原理的には各自の好きな略語にできるが、`numpy`の場合、`np`と略すのが一般的である。\n",
    "逆にそれ以外の略称を用いることは、コードをわかりづらくさせるので避けるべきである。"
   ]
  },
  {
   "cell_type": "markdown",
   "metadata": {},
   "source": [
    "### 特殊関数の計算\n",
    "\n",
    "ここでは、`Numpy`の機能の1つである特殊関数の計算をしてみる。"
   ]
  },
  {
   "cell_type": "code",
   "execution_count": 16,
   "metadata": {
    "collapsed": false
   },
   "outputs": [
    {
     "data": {
      "text/plain": [
       "0.8414709848078965"
      ]
     },
     "execution_count": 16,
     "metadata": {},
     "output_type": "execute_result"
    }
   ],
   "source": [
    "# sin 関数\n",
    "np.sin(1)"
   ]
  },
  {
   "cell_type": "markdown",
   "metadata": {},
   "source": [
    "このように、numpyの機能を用いる場合は、`np.`の後に関数名を書いて実行する。\n",
    "\n",
    "他に使える数学関数の一覧は\n",
    "\n",
    "http://docs.scipy.org/doc/numpy/reference/routines.math.html\n",
    "\n",
    "にリストされている。"
   ]
  },
  {
   "cell_type": "markdown",
   "metadata": {},
   "source": [
    "次に、この関数の形を視覚的に把握するためにグラフにプロットする。"
   ]
  },
  {
   "cell_type": "code",
   "execution_count": 17,
   "metadata": {
    "collapsed": true
   },
   "outputs": [],
   "source": [
    "# まず、計算する範囲、個数を指定する。今回は、-5~5, 100 点で計算する。\n",
    "x = []\n",
    "y = []\n",
    "for i in range(100):\n",
    "    x.append(-5 + 10 / 100 * i)\n",
    "    y.append(np.sin(x[i]))"
   ]
  },
  {
   "cell_type": "code",
   "execution_count": 18,
   "metadata": {
    "collapsed": false
   },
   "outputs": [
    {
     "data": {
      "text/plain": [
       "[<matplotlib.lines.Line2D at 0x7f04d8e14d68>]"
      ]
     },
     "execution_count": 18,
     "metadata": {},
     "output_type": "execute_result"
    },
    {
     "data": {
      "image/png": "[encoded data removed]",
      "text/plain": [
       "<matplotlib.figure.Figure at 0x7f04db470780>"
      ]
     },
     "metadata": {},
     "output_type": "display_data"
    }
   ],
   "source": [
    "plt.plot(x, y, '-o')"
   ]
  },
  {
   "cell_type": "markdown",
   "metadata": {},
   "source": [
    "### 課題\n",
    "以下の関数を（-3 ~ 3）の範囲でプロットせよ\n",
    "\n",
    "$$\n",
    "f(x) = \\frac{\\sin(2\\pi x)}{2\\pi x}\n",
    "$$\n",
    "\n",
    "なお、$f(0)=1$であることに注意する。"
   ]
  },
  {
   "cell_type": "markdown",
   "metadata": {
    "collapsed": true
   },
   "source": [
    "### 課題\n",
    "\n",
    "大きな整数 $k$ の階乗は\n",
    "$$\n",
    "k! \\sim \\sqrt{2\\pi k}\\left(\\frac{k}{e}\\right)^k\n",
    "$$\n",
    "で近似できることが知られている（スターリングの近似）。\n",
    "\n",
    "$k = 1, 2, ... , 200$ について、$\\log(k!)$ および $\\frac{1}{2}\\log(2\\pi k) + k\\log(k) - k$ を一つのグラフ上に描画せよ。\n"
   ]
  },
  {
   "cell_type": "markdown",
   "metadata": {},
   "source": [
    "## 条件分岐\n",
    "\n",
    "以降では具体例として, 精度よくかつ効率的に$\\log(k!)$の値を計算できるプログラムを作成することを目指す. \n",
    "それを通して, コンピュータで数値計算をさせるための基礎を学ぶ. \n",
    "%具体的には, ユーザーにより与えられた$k$の値に応じて, $\\log(k!)$の値を計算し, 画面に表示することを目指す. \n",
    "\n",
    "$k$の値が小さいとき, $\\log(k!)$の値は, $\\sum_{n=1}^{k}\\log(k)$からすぐに計算できる. \n",
    "一方で$k$の値が例えば100,000を超えるようなときは, 100,000回の対数の計算をする必要があり, \n",
    "大きな計算コストが必要である. \n",
    "そこで前章の演習問題で学んだように, \n",
    "大きい$k$の場合には直接$\\sum_{n=1}^{k}\\log(k)$を計算するよりも, \n",
    "その近似である$k\\log{k}-k$を計算する方が圧倒的に高速である. \n",
    "\n",
    "高精度・高効率に$\\log(k!)$を計算するプログラムは以下のような手順を実行することになる. \n",
    "\n",
    "1. ユーザーから$k$の値を受け取る. \n",
    "2. 与えられた$k$の値が, あるしきい値$k_0$よりも小さければ$\\sum_{n=1}^{k}\\log(k)$を計算する. \n",
    "3. 与えられた$k$の値が, あるしきい値$k_0$よりも大きければ$k\\log{k}-k$を計算する. \n",
    "4. 結果を画面に表示する. "
   ]
  },
  {
   "cell_type": "markdown",
   "metadata": {},
   "source": [
    "### 課題\n",
    "\n",
    "$\\sum_{n=1}^{k}\\log(k)$の値と$\\frac{1}{2}\\log(2\\pi k) + k\\log{k}-k$の値の差の絶対値を\n",
    "$k=1,2, \\cdots, 1000$について計算し, その差が$10^{-6}$より小さくなる最小の$k$の値を求めよ. \n",
    "\n",
    "なお, 本課題は以下の**条件分岐**を学んでから取り組むと, 効率的に解決できる. "
   ]
  },
  {
   "cell_type": "markdown",
   "metadata": {},
   "source": [
    "### if 文の文法\n",
    "\n",
    "上記に示した手順のうち, ２および３は, 特定の条件が満たされたときに計算の挙動を変化させている. \n",
    "それを実現する枠組みを**条件分岐**と呼ぶ. \n",
    "Pythonでは, `if`文を用いて条件分岐を行う. \n",
    "\n",
    "以下に, `if`文の一つの用例を示す. \n",
    "ここでは, 二次方程式の判別式を計算して, それが正, 零, 負であるときにそれぞれ異なる処理を行っている. "
   ]
  },
  {
   "cell_type": "code",
   "execution_count": 19,
   "metadata": {
    "collapsed": true
   },
   "outputs": [],
   "source": [
    "def discriminant(a, b, c):\n",
    "    \"\"\"\n",
    "    a x**2 + b x + c = 0 に実数解が存在するか調べるプログラム。\n",
    "    ２つの実数解が存在する場合は `two real roots` を、重根が存在する場合は `one real root`を、\n",
    "    実数解が存在しない場合は `two complex roots` を表示する。\n",
    "    \"\"\"\n",
    "    d = b**2 - 4.0*a*c\n",
    "    if d > 0.0:\n",
    "        print('two real roots')\n",
    "    elif d == 0.0:\n",
    "        print('one real root')\n",
    "    else:\n",
    "        print('two complex roots')"
   ]
  },
  {
   "cell_type": "code",
   "execution_count": 20,
   "metadata": {
    "collapsed": false
   },
   "outputs": [
    {
     "name": "stdout",
     "output_type": "stream",
     "text": [
      "two complex roots\n"
     ]
    }
   ],
   "source": [
    "discriminant(3.0, 2.0, 1.0)"
   ]
  },
  {
   "cell_type": "markdown",
   "metadata": {},
   "source": [
    "このように`if`文を使えば、`if`文直後の条件が真か偽かに応じて処理を分岐することができる。\n",
    "\n",
    "具体的には以下の表のように、適当な等式あるいは不等式を書くことが多い。\n",
    "\n",
    "| Pythonでの書き方 |    意味    |\n",
    "|:-----------:|:--------------:|\n",
    "| `x == y` | $x=y$ (イコール)| \n",
    "| `x != y` | $x\\neq y$  (ノットイコール)| \n",
    "| `x < y` | $x<y$ (小なり)| \n",
    "| `x <= y` | $x\\leq y$ (小なりイコール)| \n",
    "| `x > y` | $x> y$ (大なり)| \n",
    "| `x >= y` | $x \\leq y$ (大なりイコール)| \n",
    "\n",
    "\n",
    "`if`文の仕様パターンは大きくは以下の3通りである。\n",
    "\n",
    "```\n",
    "if 条件:\n",
    "    処理  \n",
    "```\n",
    "\n",
    "```\n",
    "if 条件:\n",
    "    真の場合の処理\n",
    "else:\n",
    "    偽の場合の処理\n",
    "```\n",
    "\n",
    "```\n",
    "if 条件1:\n",
    "    条件1が真の場合の処理\n",
    "elif 条件2:\n",
    "    条件1が真であり条件2が偽の場合の処理\n",
    "else:\n",
    "    条件1、2が偽である場合の処理\n",
    "```\n"
   ]
  },
  {
   "cell_type": "markdown",
   "metadata": {},
   "source": [
    "### 課題\n",
    "\n",
    "二次方程式の判別式を計算し、それが正の時は二実数解、零の時は重解、負の時は複素数解を計算するプログラムを作成せよ。\n",
    "\n",
    "なお、複素数は $a + b i$ は `np.complex(a,b)` で以下のように表すことができる。"
   ]
  },
  {
   "cell_type": "code",
   "execution_count": 21,
   "metadata": {
    "collapsed": false
   },
   "outputs": [
    {
     "data": {
      "text/plain": [
       "(2+3j)"
      ]
     },
     "execution_count": 21,
     "metadata": {},
     "output_type": "execute_result"
    }
   ],
   "source": [
    "# 2+3i は以下のように表す。\n",
    "np.complex(2.0,3.0)"
   ]
  },
  {
   "cell_type": "markdown",
   "metadata": {},
   "source": [
    "### 課題\n",
    "\n",
    "以前の演習問題で求めた $\\sum_{n=1}^k \\log(k)$ の値と $\\frac{1}{2}\\log(2\\pi k) + k \\log k - k$ の差が$10^{-4}$ より小さくなる$k$の値を用いて、効率よく$\\log(k!)$を計算できる関数を作成せよ。"
   ]
  }
 ],
 "metadata": {
  "anaconda-cloud": {},
  "kernelspec": {
   "display_name": "Python [Root]",
   "language": "python",
   "name": "Python [Root]"
  },
  "language_info": {
   "codemirror_mode": {
    "name": "ipython",
    "version": 3
   },
   "file_extension": ".py",
   "mimetype": "text/x-python",
   "name": "python",
   "nbconvert_exporter": "python",
   "pygments_lexer": "ipython3",
   "version": "3.5.2"
  },
  "latex_envs": {
   "bibliofile": "biblio.bib",
   "cite_by": "apalike",
   "current_citInitial": 1,
   "eqLabelWithNumbers": true,
   "eqNumInitial": 0
  },
  "toc": {
   "toc_cell": false,
   "toc_number_sections": true,
   "toc_threshold": 6,
   "toc_window_display": false
  }
 },
 "nbformat": 4,
 "nbformat_minor": 0
}
