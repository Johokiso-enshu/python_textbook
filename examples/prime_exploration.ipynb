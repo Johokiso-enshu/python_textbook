{
 "cells": [
  {
   "cell_type": "markdown",
   "metadata": {},
   "source": [
    "# Note\n",
    "\n",
    "素数探索のプログラム例を示す。"
   ]
  },
  {
   "cell_type": "code",
   "execution_count": 1,
   "metadata": {
    "collapsed": true
   },
   "outputs": [],
   "source": [
    "import numpy as np\n",
    "%matplotlib inline\n",
    "import matplotlib.pyplot as plt"
   ]
  },
  {
   "cell_type": "code",
   "execution_count": 2,
   "metadata": {
    "collapsed": true
   },
   "outputs": [],
   "source": [
    "import time"
   ]
  },
  {
   "cell_type": "markdown",
   "metadata": {},
   "source": [
    "# 素数かどうか調べる関数"
   ]
  },
  {
   "cell_type": "code",
   "execution_count": 3,
   "metadata": {
    "collapsed": true
   },
   "outputs": [],
   "source": [
    "def is_prime(n):\n",
    "    \"\"\"\n",
    "    n が素数かどうか調べるプログラム。素数であれば True を、そうでなければ False を返す。\n",
    "    args:\n",
    "    + n: integer larger than 1\n",
    "    return:\n",
    "    + boolean: True if n is a prime, False if n is not a prime.\n",
    "    \"\"\"\n",
    "    for i in range(2,n):\n",
    "        if n%i == 0:\n",
    "            return False\n",
    "    return True"
   ]
  },
  {
   "cell_type": "markdown",
   "metadata": {},
   "source": [
    "## 上記関数のテスト"
   ]
  },
  {
   "cell_type": "code",
   "execution_count": 4,
   "metadata": {
    "collapsed": false
   },
   "outputs": [
    {
     "data": {
      "text/plain": [
       "True"
      ]
     },
     "execution_count": 4,
     "metadata": {},
     "output_type": "execute_result"
    }
   ],
   "source": [
    "is_prime(11)"
   ]
  },
  {
   "cell_type": "code",
   "execution_count": 5,
   "metadata": {
    "collapsed": false,
    "scrolled": true
   },
   "outputs": [
    {
     "data": {
      "text/plain": [
       "False"
      ]
     },
     "execution_count": 5,
     "metadata": {},
     "output_type": "execute_result"
    }
   ],
   "source": [
    "is_prime(9)"
   ]
  },
  {
   "cell_type": "markdown",
   "metadata": {},
   "source": [
    "# 探索を行うスクリプト"
   ]
  },
  {
   "cell_type": "code",
   "execution_count": 6,
   "metadata": {
    "collapsed": false
   },
   "outputs": [
    {
     "name": "stdout",
     "output_type": "stream",
     "text": [
      "calculation took 112.151664019 s.\n"
     ]
    }
   ],
   "source": [
    "before = time.time()\n",
    "\n",
    "primes1 = []\n",
    "found_times1 = []\n",
    "\n",
    "n = 2\n",
    "while len(primes1) < 10000:\n",
    "    if is_prime(n):\n",
    "        primes1.append(n)\n",
    "        found_times1.append(time.time()-before)\n",
    "    n += 1\n",
    "    \n",
    "after = time.time()\n",
    "\n",
    "print('calculation took ' + str(after - before) + ' s.')"
   ]
  },
  {
   "cell_type": "code",
   "execution_count": 7,
   "metadata": {
    "collapsed": false
   },
   "outputs": [
    {
     "data": {
      "image/png": "[encoded data removed]",
      "text/plain": [
       "<matplotlib.figure.Figure at 0x7fa8a9076b50>"
      ]
     },
     "metadata": {},
     "output_type": "display_data"
    }
   ],
   "source": [
    "plt.plot(found_times1)\n",
    "plt.xlabel('number of primes')\n",
    "plt.ylabel('elapsed time (s)')\n",
    "plt.yscale('log')"
   ]
  },
  {
   "cell_type": "markdown",
   "metadata": {},
   "source": [
    "# 素数かどうか調べる関数2\n",
    "\n",
    "二乗が n を超えない範囲で探索する。"
   ]
  },
  {
   "cell_type": "code",
   "execution_count": 8,
   "metadata": {
    "collapsed": true
   },
   "outputs": [],
   "source": [
    "def is_prime_fast(n):\n",
    "    \"\"\"\n",
    "    n が素数かどうか調べるプログラム。素数であれば True を、そうでなければ False を返す。\n",
    "    args:\n",
    "    + n: integer larger than 1\n",
    "    return:\n",
    "    + boolean: True if n is a prime, False if n is not a prime.\n",
    "    \"\"\"\n",
    "    imax = int(np.ceil(np.sqrt(1.0*n))) # 平方根に近い整数に変換する\n",
    "    for i in range(2,min(n, imax+1)): # n-1もしくは sqrt(n) まで探索する。\n",
    "        if n%i == 0:\n",
    "            return False\n",
    "        if i > imax:\n",
    "            break\n",
    "    return True"
   ]
  },
  {
   "cell_type": "markdown",
   "metadata": {},
   "source": [
    "## 上記関数のテスト"
   ]
  },
  {
   "cell_type": "code",
   "execution_count": 9,
   "metadata": {
    "collapsed": false
   },
   "outputs": [
    {
     "data": {
      "text/plain": [
       "True"
      ]
     },
     "execution_count": 9,
     "metadata": {},
     "output_type": "execute_result"
    }
   ],
   "source": [
    "is_prime_fast(11)"
   ]
  },
  {
   "cell_type": "code",
   "execution_count": 10,
   "metadata": {
    "collapsed": false,
    "scrolled": false
   },
   "outputs": [
    {
     "data": {
      "text/plain": [
       "False"
      ]
     },
     "execution_count": 10,
     "metadata": {},
     "output_type": "execute_result"
    }
   ],
   "source": [
    "is_prime_fast(9)"
   ]
  },
  {
   "cell_type": "code",
   "execution_count": 11,
   "metadata": {
    "collapsed": false
   },
   "outputs": [
    {
     "data": {
      "text/plain": [
       "True"
      ]
     },
     "execution_count": 11,
     "metadata": {},
     "output_type": "execute_result"
    }
   ],
   "source": [
    "is_prime_fast(2)"
   ]
  },
  {
   "cell_type": "markdown",
   "metadata": {},
   "source": [
    "# 探索を行うスクリプト"
   ]
  },
  {
   "cell_type": "code",
   "execution_count": 12,
   "metadata": {
    "collapsed": false
   },
   "outputs": [
    {
     "name": "stdout",
     "output_type": "stream",
     "text": [
      "calculation took 0.752431869507 s.\n"
     ]
    }
   ],
   "source": [
    "before = time.time()\n",
    "\n",
    "primes2 = []\n",
    "found_times2 = []\n",
    "\n",
    "n = 2\n",
    "while len(primes2) < 10000:\n",
    "    if is_prime_fast(n):\n",
    "        primes2.append(n)\n",
    "        found_times2.append(time.time()-before)\n",
    "    n += 1\n",
    "    \n",
    "after = time.time()\n",
    "\n",
    "print('calculation took ' + str(after - before) + ' s.')"
   ]
  },
  {
   "cell_type": "code",
   "execution_count": 13,
   "metadata": {
    "collapsed": false
   },
   "outputs": [
    {
     "data": {
      "text/plain": [
       "<matplotlib.legend.Legend at 0x7fa8a62e0f10>"
      ]
     },
     "execution_count": 13,
     "metadata": {},
     "output_type": "execute_result"
    },
    {
     "data": {
      "image/png": "[encoded data removed]",
      "text/plain": [
       "<matplotlib.figure.Figure at 0x7fa8a64f3250>"
      ]
     },
     "metadata": {},
     "output_type": "display_data"
    }
   ],
   "source": [
    "plt.plot(found_times1, label='simplest')\n",
    "plt.plot(found_times2, label='use of square')\n",
    "plt.xlabel('number of primes')\n",
    "plt.ylabel('elapsed time (s)')\n",
    "plt.yscale('log')\n",
    "plt.legend(loc='best')"
   ]
  },
  {
   "cell_type": "markdown",
   "metadata": {},
   "source": [
    "# これまでの履歴を用いた探索"
   ]
  },
  {
   "cell_type": "code",
   "execution_count": 14,
   "metadata": {
    "collapsed": true
   },
   "outputs": [],
   "source": [
    "def is_prime_history(n, primes):\n",
    "    \"\"\"\n",
    "    ある整数 n>1 が素数かどうか調べる関数。これまで見つけた素数のリストを用いて探索を高速化する。\n",
    "    primes にはこれまで探索した n より小さい素数が格納されている。\n",
    "    args:\n",
    "    + n: integer larger than 1\n",
    "    + primes: array-like of prime numbers that is already found.\n",
    "    return:\n",
    "    + boolean: True if n is a prime, False if n is not a prime.\n",
    "    \"\"\"\n",
    "    imax = int(np.ceil(np.sqrt(1.0*n))) # 平方根に近い整数に変換する\n",
    "    for i in primes:\n",
    "        if n%i == 0:\n",
    "            return False\n",
    "        if i > imax:\n",
    "            break\n",
    "    return True"
   ]
  },
  {
   "cell_type": "markdown",
   "metadata": {},
   "source": [
    "## 上記関数のテスト"
   ]
  },
  {
   "cell_type": "code",
   "execution_count": 15,
   "metadata": {
    "collapsed": false
   },
   "outputs": [
    {
     "data": {
      "text/plain": [
       "True"
      ]
     },
     "execution_count": 15,
     "metadata": {},
     "output_type": "execute_result"
    }
   ],
   "source": [
    "is_prime_history(11, [2,3,5,7,9])"
   ]
  },
  {
   "cell_type": "code",
   "execution_count": 16,
   "metadata": {
    "collapsed": false,
    "scrolled": true
   },
   "outputs": [
    {
     "data": {
      "text/plain": [
       "False"
      ]
     },
     "execution_count": 16,
     "metadata": {},
     "output_type": "execute_result"
    }
   ],
   "source": [
    "is_prime_history(12, [2,3,5,7,9])"
   ]
  },
  {
   "cell_type": "markdown",
   "metadata": {},
   "source": [
    "# 探索を行うスクリプト"
   ]
  },
  {
   "cell_type": "code",
   "execution_count": 17,
   "metadata": {
    "collapsed": false
   },
   "outputs": [
    {
     "name": "stdout",
     "output_type": "stream",
     "text": [
      "calculation took 0.389986991882 s.\n"
     ]
    }
   ],
   "source": [
    "before = time.time()\n",
    "\n",
    "primes3 = []\n",
    "found_times3 = []\n",
    "\n",
    "n = 2\n",
    "while len(primes3) < 10000:\n",
    "    if is_prime_history(n, primes3):\n",
    "        primes3.append(n)\n",
    "        found_times3.append(time.time()-before)\n",
    "    n += 1\n",
    "    \n",
    "after = time.time()\n",
    "\n",
    "print('calculation took ' + str(after - before) + ' s.')"
   ]
  },
  {
   "cell_type": "code",
   "execution_count": 18,
   "metadata": {
    "collapsed": false
   },
   "outputs": [
    {
     "data": {
      "text/plain": [
       "<matplotlib.legend.Legend at 0x7fa8a63d5a10>"
      ]
     },
     "execution_count": 18,
     "metadata": {},
     "output_type": "execute_result"
    },
    {
     "data": {
      "image/png": "[encoded data removed]",
      "text/plain": [
       "<matplotlib.figure.Figure at 0x7fa8a6279f10>"
      ]
     },
     "metadata": {},
     "output_type": "display_data"
    }
   ],
   "source": [
    "plt.plot(found_times1, label='simplest')\n",
    "plt.plot(found_times2, label='use of square')\n",
    "plt.plot(found_times3, label='use of history')\n",
    "plt.xlabel('number of primes')\n",
    "plt.ylabel('elapsed time (s)')\n",
    "plt.yscale('log')\n",
    "plt.legend(loc='best')"
   ]
  },
  {
   "cell_type": "code",
   "execution_count": 20,
   "metadata": {
    "collapsed": false
   },
   "outputs": [
    {
     "data": {
      "text/plain": [
       "<matplotlib.legend.Legend at 0x7fa8a647d550>"
      ]
     },
     "execution_count": 20,
     "metadata": {},
     "output_type": "execute_result"
    },
    {
     "data": {
      "image/png": "[encoded data removed]",
      "text/plain": [
       "<matplotlib.figure.Figure at 0x7fa8a5fcff10>"
      ]
     },
     "metadata": {},
     "output_type": "display_data"
    }
   ],
   "source": [
    "plt.plot(primes1, label='simplest')\n",
    "plt.plot(primes2, label='use of square')\n",
    "plt.plot(primes3, label='use of history')\n",
    "plt.xlabel('number of primes')\n",
    "plt.ylabel('prime values')\n",
    "plt.xscale('log')\n",
    "plt.yscale('log')\n",
    "plt.legend(loc='best')"
   ]
  },
  {
   "cell_type": "code",
   "execution_count": null,
   "metadata": {
    "collapsed": true
   },
   "outputs": [],
   "source": []
  }
 ],
 "metadata": {
  "kernelspec": {
   "display_name": "Python 2",
   "language": "python",
   "name": "python2"
  },
  "language_info": {
   "codemirror_mode": {
    "name": "ipython",
    "version": 2
   },
   "file_extension": ".py",
   "mimetype": "text/x-python",
   "name": "python",
   "nbconvert_exporter": "python",
   "pygments_lexer": "ipython2",
   "version": "2.7.11"
  }
 },
 "nbformat": 4,
 "nbformat_minor": 0
}
